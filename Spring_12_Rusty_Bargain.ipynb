{
 "cells": [
  {
   "cell_type": "markdown",
   "metadata": {},
   "source": [
    "# Introducción"
   ]
  },
  {
   "cell_type": "markdown",
   "metadata": {},
   "source": [
    "El servicio de venta de autos usados Rusty Bargain está desarrollando una aplicación para atraer nuevos clientes. Gracias a esa app, puedes averiguar rápidamente el valor de mercado de tu coche. Tienes acceso al historial: especificaciones técnicas, versiones de equipamiento y precios. Tienes que crear un modelo que determine el valor de mercado.\n",
    "A Rusty Bargain le interesa:\n",
    "- la calidad de la predicción;\n",
    "- la velocidad de la predicción;\n",
    "- el tiempo requerido para el entrenamiento"
   ]
  },
  {
   "cell_type": "markdown",
   "metadata": {},
   "source": [
    "## Preparación de datos"
   ]
  },
  {
   "cell_type": "code",
   "execution_count": 30,
   "metadata": {},
   "outputs": [],
   "source": [
    "#Cargar todas las librerías\n",
    "import pandas as pd\n",
    "import numpy as np\n",
    "import time\n",
    "import matplotlib.pyplot as plt\n",
    "from sklearn.model_selection import train_test_split, GridSearchCV\n",
    "from sklearn.metrics import mean_squared_error \n",
    "from sklearn.ensemble import RandomForestRegressor\n",
    "from sklearn.preprocessing import MinMaxScaler, OneHotEncoder, StandardScaler\n",
    "from sklearn.metrics import r2_score\n",
    "import lightgbm as ltb "
   ]
  },
  {
   "cell_type": "code",
   "execution_count": 2,
   "metadata": {},
   "outputs": [],
   "source": [
    "#Cargar los archivos de los datos \n",
    "car_data = pd.read_csv('/datasets/car_data.csv')"
   ]
  },
  {
   "cell_type": "code",
   "execution_count": 3,
   "metadata": {},
   "outputs": [
    {
     "data": {
      "text/html": [
       "<div>\n",
       "<style scoped>\n",
       "    .dataframe tbody tr th:only-of-type {\n",
       "        vertical-align: middle;\n",
       "    }\n",
       "\n",
       "    .dataframe tbody tr th {\n",
       "        vertical-align: top;\n",
       "    }\n",
       "\n",
       "    .dataframe thead th {\n",
       "        text-align: right;\n",
       "    }\n",
       "</style>\n",
       "<table border=\"1\" class=\"dataframe\">\n",
       "  <thead>\n",
       "    <tr style=\"text-align: right;\">\n",
       "      <th></th>\n",
       "      <th>DateCrawled</th>\n",
       "      <th>Price</th>\n",
       "      <th>VehicleType</th>\n",
       "      <th>RegistrationYear</th>\n",
       "      <th>Gearbox</th>\n",
       "      <th>Power</th>\n",
       "      <th>Model</th>\n",
       "      <th>Mileage</th>\n",
       "      <th>RegistrationMonth</th>\n",
       "      <th>FuelType</th>\n",
       "      <th>Brand</th>\n",
       "      <th>NotRepaired</th>\n",
       "      <th>DateCreated</th>\n",
       "      <th>NumberOfPictures</th>\n",
       "      <th>PostalCode</th>\n",
       "      <th>LastSeen</th>\n",
       "    </tr>\n",
       "  </thead>\n",
       "  <tbody>\n",
       "    <tr>\n",
       "      <th>0</th>\n",
       "      <td>24/03/2016 11:52</td>\n",
       "      <td>480</td>\n",
       "      <td>NaN</td>\n",
       "      <td>1993</td>\n",
       "      <td>manual</td>\n",
       "      <td>0</td>\n",
       "      <td>golf</td>\n",
       "      <td>150000</td>\n",
       "      <td>0</td>\n",
       "      <td>petrol</td>\n",
       "      <td>volkswagen</td>\n",
       "      <td>NaN</td>\n",
       "      <td>24/03/2016 00:00</td>\n",
       "      <td>0</td>\n",
       "      <td>70435</td>\n",
       "      <td>07/04/2016 03:16</td>\n",
       "    </tr>\n",
       "    <tr>\n",
       "      <th>1</th>\n",
       "      <td>24/03/2016 10:58</td>\n",
       "      <td>18300</td>\n",
       "      <td>coupe</td>\n",
       "      <td>2011</td>\n",
       "      <td>manual</td>\n",
       "      <td>190</td>\n",
       "      <td>NaN</td>\n",
       "      <td>125000</td>\n",
       "      <td>5</td>\n",
       "      <td>gasoline</td>\n",
       "      <td>audi</td>\n",
       "      <td>yes</td>\n",
       "      <td>24/03/2016 00:00</td>\n",
       "      <td>0</td>\n",
       "      <td>66954</td>\n",
       "      <td>07/04/2016 01:46</td>\n",
       "    </tr>\n",
       "    <tr>\n",
       "      <th>2</th>\n",
       "      <td>14/03/2016 12:52</td>\n",
       "      <td>9800</td>\n",
       "      <td>suv</td>\n",
       "      <td>2004</td>\n",
       "      <td>auto</td>\n",
       "      <td>163</td>\n",
       "      <td>grand</td>\n",
       "      <td>125000</td>\n",
       "      <td>8</td>\n",
       "      <td>gasoline</td>\n",
       "      <td>jeep</td>\n",
       "      <td>NaN</td>\n",
       "      <td>14/03/2016 00:00</td>\n",
       "      <td>0</td>\n",
       "      <td>90480</td>\n",
       "      <td>05/04/2016 12:47</td>\n",
       "    </tr>\n",
       "    <tr>\n",
       "      <th>3</th>\n",
       "      <td>17/03/2016 16:54</td>\n",
       "      <td>1500</td>\n",
       "      <td>small</td>\n",
       "      <td>2001</td>\n",
       "      <td>manual</td>\n",
       "      <td>75</td>\n",
       "      <td>golf</td>\n",
       "      <td>150000</td>\n",
       "      <td>6</td>\n",
       "      <td>petrol</td>\n",
       "      <td>volkswagen</td>\n",
       "      <td>no</td>\n",
       "      <td>17/03/2016 00:00</td>\n",
       "      <td>0</td>\n",
       "      <td>91074</td>\n",
       "      <td>17/03/2016 17:40</td>\n",
       "    </tr>\n",
       "    <tr>\n",
       "      <th>4</th>\n",
       "      <td>31/03/2016 17:25</td>\n",
       "      <td>3600</td>\n",
       "      <td>small</td>\n",
       "      <td>2008</td>\n",
       "      <td>manual</td>\n",
       "      <td>69</td>\n",
       "      <td>fabia</td>\n",
       "      <td>90000</td>\n",
       "      <td>7</td>\n",
       "      <td>gasoline</td>\n",
       "      <td>skoda</td>\n",
       "      <td>no</td>\n",
       "      <td>31/03/2016 00:00</td>\n",
       "      <td>0</td>\n",
       "      <td>60437</td>\n",
       "      <td>06/04/2016 10:17</td>\n",
       "    </tr>\n",
       "    <tr>\n",
       "      <th>...</th>\n",
       "      <td>...</td>\n",
       "      <td>...</td>\n",
       "      <td>...</td>\n",
       "      <td>...</td>\n",
       "      <td>...</td>\n",
       "      <td>...</td>\n",
       "      <td>...</td>\n",
       "      <td>...</td>\n",
       "      <td>...</td>\n",
       "      <td>...</td>\n",
       "      <td>...</td>\n",
       "      <td>...</td>\n",
       "      <td>...</td>\n",
       "      <td>...</td>\n",
       "      <td>...</td>\n",
       "      <td>...</td>\n",
       "    </tr>\n",
       "    <tr>\n",
       "      <th>354364</th>\n",
       "      <td>21/03/2016 09:50</td>\n",
       "      <td>0</td>\n",
       "      <td>NaN</td>\n",
       "      <td>2005</td>\n",
       "      <td>manual</td>\n",
       "      <td>0</td>\n",
       "      <td>colt</td>\n",
       "      <td>150000</td>\n",
       "      <td>7</td>\n",
       "      <td>petrol</td>\n",
       "      <td>mitsubishi</td>\n",
       "      <td>yes</td>\n",
       "      <td>21/03/2016 00:00</td>\n",
       "      <td>0</td>\n",
       "      <td>2694</td>\n",
       "      <td>21/03/2016 10:42</td>\n",
       "    </tr>\n",
       "    <tr>\n",
       "      <th>354365</th>\n",
       "      <td>14/03/2016 17:48</td>\n",
       "      <td>2200</td>\n",
       "      <td>NaN</td>\n",
       "      <td>2005</td>\n",
       "      <td>NaN</td>\n",
       "      <td>0</td>\n",
       "      <td>NaN</td>\n",
       "      <td>20000</td>\n",
       "      <td>1</td>\n",
       "      <td>NaN</td>\n",
       "      <td>sonstige_autos</td>\n",
       "      <td>NaN</td>\n",
       "      <td>14/03/2016 00:00</td>\n",
       "      <td>0</td>\n",
       "      <td>39576</td>\n",
       "      <td>06/04/2016 00:46</td>\n",
       "    </tr>\n",
       "    <tr>\n",
       "      <th>354366</th>\n",
       "      <td>05/03/2016 19:56</td>\n",
       "      <td>1199</td>\n",
       "      <td>convertible</td>\n",
       "      <td>2000</td>\n",
       "      <td>auto</td>\n",
       "      <td>101</td>\n",
       "      <td>fortwo</td>\n",
       "      <td>125000</td>\n",
       "      <td>3</td>\n",
       "      <td>petrol</td>\n",
       "      <td>smart</td>\n",
       "      <td>no</td>\n",
       "      <td>05/03/2016 00:00</td>\n",
       "      <td>0</td>\n",
       "      <td>26135</td>\n",
       "      <td>11/03/2016 18:17</td>\n",
       "    </tr>\n",
       "    <tr>\n",
       "      <th>354367</th>\n",
       "      <td>19/03/2016 18:57</td>\n",
       "      <td>9200</td>\n",
       "      <td>bus</td>\n",
       "      <td>1996</td>\n",
       "      <td>manual</td>\n",
       "      <td>102</td>\n",
       "      <td>transporter</td>\n",
       "      <td>150000</td>\n",
       "      <td>3</td>\n",
       "      <td>gasoline</td>\n",
       "      <td>volkswagen</td>\n",
       "      <td>no</td>\n",
       "      <td>19/03/2016 00:00</td>\n",
       "      <td>0</td>\n",
       "      <td>87439</td>\n",
       "      <td>07/04/2016 07:15</td>\n",
       "    </tr>\n",
       "    <tr>\n",
       "      <th>354368</th>\n",
       "      <td>20/03/2016 19:41</td>\n",
       "      <td>3400</td>\n",
       "      <td>wagon</td>\n",
       "      <td>2002</td>\n",
       "      <td>manual</td>\n",
       "      <td>100</td>\n",
       "      <td>golf</td>\n",
       "      <td>150000</td>\n",
       "      <td>6</td>\n",
       "      <td>gasoline</td>\n",
       "      <td>volkswagen</td>\n",
       "      <td>NaN</td>\n",
       "      <td>20/03/2016 00:00</td>\n",
       "      <td>0</td>\n",
       "      <td>40764</td>\n",
       "      <td>24/03/2016 12:45</td>\n",
       "    </tr>\n",
       "  </tbody>\n",
       "</table>\n",
       "<p>354369 rows × 16 columns</p>\n",
       "</div>"
      ],
      "text/plain": [
       "             DateCrawled  Price  VehicleType  RegistrationYear Gearbox  Power  \\\n",
       "0       24/03/2016 11:52    480          NaN              1993  manual      0   \n",
       "1       24/03/2016 10:58  18300        coupe              2011  manual    190   \n",
       "2       14/03/2016 12:52   9800          suv              2004    auto    163   \n",
       "3       17/03/2016 16:54   1500        small              2001  manual     75   \n",
       "4       31/03/2016 17:25   3600        small              2008  manual     69   \n",
       "...                  ...    ...          ...               ...     ...    ...   \n",
       "354364  21/03/2016 09:50      0          NaN              2005  manual      0   \n",
       "354365  14/03/2016 17:48   2200          NaN              2005     NaN      0   \n",
       "354366  05/03/2016 19:56   1199  convertible              2000    auto    101   \n",
       "354367  19/03/2016 18:57   9200          bus              1996  manual    102   \n",
       "354368  20/03/2016 19:41   3400        wagon              2002  manual    100   \n",
       "\n",
       "              Model  Mileage  RegistrationMonth  FuelType           Brand  \\\n",
       "0              golf   150000                  0    petrol      volkswagen   \n",
       "1               NaN   125000                  5  gasoline            audi   \n",
       "2             grand   125000                  8  gasoline            jeep   \n",
       "3              golf   150000                  6    petrol      volkswagen   \n",
       "4             fabia    90000                  7  gasoline           skoda   \n",
       "...             ...      ...                ...       ...             ...   \n",
       "354364         colt   150000                  7    petrol      mitsubishi   \n",
       "354365          NaN    20000                  1       NaN  sonstige_autos   \n",
       "354366       fortwo   125000                  3    petrol           smart   \n",
       "354367  transporter   150000                  3  gasoline      volkswagen   \n",
       "354368         golf   150000                  6  gasoline      volkswagen   \n",
       "\n",
       "       NotRepaired       DateCreated  NumberOfPictures  PostalCode  \\\n",
       "0              NaN  24/03/2016 00:00                 0       70435   \n",
       "1              yes  24/03/2016 00:00                 0       66954   \n",
       "2              NaN  14/03/2016 00:00                 0       90480   \n",
       "3               no  17/03/2016 00:00                 0       91074   \n",
       "4               no  31/03/2016 00:00                 0       60437   \n",
       "...            ...               ...               ...         ...   \n",
       "354364         yes  21/03/2016 00:00                 0        2694   \n",
       "354365         NaN  14/03/2016 00:00                 0       39576   \n",
       "354366          no  05/03/2016 00:00                 0       26135   \n",
       "354367          no  19/03/2016 00:00                 0       87439   \n",
       "354368         NaN  20/03/2016 00:00                 0       40764   \n",
       "\n",
       "                LastSeen  \n",
       "0       07/04/2016 03:16  \n",
       "1       07/04/2016 01:46  \n",
       "2       05/04/2016 12:47  \n",
       "3       17/03/2016 17:40  \n",
       "4       06/04/2016 10:17  \n",
       "...                  ...  \n",
       "354364  21/03/2016 10:42  \n",
       "354365  06/04/2016 00:46  \n",
       "354366  11/03/2016 18:17  \n",
       "354367  07/04/2016 07:15  \n",
       "354368  24/03/2016 12:45  \n",
       "\n",
       "[354369 rows x 16 columns]"
      ]
     },
     "execution_count": 3,
     "metadata": {},
     "output_type": "execute_result"
    }
   ],
   "source": [
    "#Vista general\n",
    "car_data"
   ]
  },
  {
   "cell_type": "code",
   "execution_count": 4,
   "metadata": {},
   "outputs": [
    {
     "name": "stdout",
     "output_type": "stream",
     "text": [
      "<class 'pandas.core.frame.DataFrame'>\n",
      "RangeIndex: 354369 entries, 0 to 354368\n",
      "Data columns (total 16 columns):\n",
      " #   Column             Non-Null Count   Dtype \n",
      "---  ------             --------------   ----- \n",
      " 0   DateCrawled        354369 non-null  object\n",
      " 1   Price              354369 non-null  int64 \n",
      " 2   VehicleType        316879 non-null  object\n",
      " 3   RegistrationYear   354369 non-null  int64 \n",
      " 4   Gearbox            334536 non-null  object\n",
      " 5   Power              354369 non-null  int64 \n",
      " 6   Model              334664 non-null  object\n",
      " 7   Mileage            354369 non-null  int64 \n",
      " 8   RegistrationMonth  354369 non-null  int64 \n",
      " 9   FuelType           321474 non-null  object\n",
      " 10  Brand              354369 non-null  object\n",
      " 11  NotRepaired        283215 non-null  object\n",
      " 12  DateCreated        354369 non-null  object\n",
      " 13  NumberOfPictures   354369 non-null  int64 \n",
      " 14  PostalCode         354369 non-null  int64 \n",
      " 15  LastSeen           354369 non-null  object\n",
      "dtypes: int64(7), object(9)\n",
      "memory usage: 43.3+ MB\n"
     ]
    }
   ],
   "source": [
    "#Información general\n",
    "car_data.info()"
   ]
  },
  {
   "cell_type": "code",
   "execution_count": 5,
   "metadata": {},
   "outputs": [
    {
     "data": {
      "text/html": [
       "<div>\n",
       "<style scoped>\n",
       "    .dataframe tbody tr th:only-of-type {\n",
       "        vertical-align: middle;\n",
       "    }\n",
       "\n",
       "    .dataframe tbody tr th {\n",
       "        vertical-align: top;\n",
       "    }\n",
       "\n",
       "    .dataframe thead th {\n",
       "        text-align: right;\n",
       "    }\n",
       "</style>\n",
       "<table border=\"1\" class=\"dataframe\">\n",
       "  <thead>\n",
       "    <tr style=\"text-align: right;\">\n",
       "      <th></th>\n",
       "      <th>Price</th>\n",
       "      <th>RegistrationYear</th>\n",
       "      <th>Power</th>\n",
       "      <th>Mileage</th>\n",
       "      <th>RegistrationMonth</th>\n",
       "      <th>NumberOfPictures</th>\n",
       "      <th>PostalCode</th>\n",
       "    </tr>\n",
       "  </thead>\n",
       "  <tbody>\n",
       "    <tr>\n",
       "      <th>count</th>\n",
       "      <td>354369.000000</td>\n",
       "      <td>354369.000000</td>\n",
       "      <td>354369.000000</td>\n",
       "      <td>354369.000000</td>\n",
       "      <td>354369.000000</td>\n",
       "      <td>354369.0</td>\n",
       "      <td>354369.000000</td>\n",
       "    </tr>\n",
       "    <tr>\n",
       "      <th>mean</th>\n",
       "      <td>4416.656776</td>\n",
       "      <td>2004.234448</td>\n",
       "      <td>110.094337</td>\n",
       "      <td>128211.172535</td>\n",
       "      <td>5.714645</td>\n",
       "      <td>0.0</td>\n",
       "      <td>50508.689087</td>\n",
       "    </tr>\n",
       "    <tr>\n",
       "      <th>std</th>\n",
       "      <td>4514.158514</td>\n",
       "      <td>90.227958</td>\n",
       "      <td>189.850405</td>\n",
       "      <td>37905.341530</td>\n",
       "      <td>3.726421</td>\n",
       "      <td>0.0</td>\n",
       "      <td>25783.096248</td>\n",
       "    </tr>\n",
       "    <tr>\n",
       "      <th>min</th>\n",
       "      <td>0.000000</td>\n",
       "      <td>1000.000000</td>\n",
       "      <td>0.000000</td>\n",
       "      <td>5000.000000</td>\n",
       "      <td>0.000000</td>\n",
       "      <td>0.0</td>\n",
       "      <td>1067.000000</td>\n",
       "    </tr>\n",
       "    <tr>\n",
       "      <th>0%</th>\n",
       "      <td>0.000000</td>\n",
       "      <td>1000.000000</td>\n",
       "      <td>0.000000</td>\n",
       "      <td>5000.000000</td>\n",
       "      <td>0.000000</td>\n",
       "      <td>0.0</td>\n",
       "      <td>1067.000000</td>\n",
       "    </tr>\n",
       "    <tr>\n",
       "      <th>10%</th>\n",
       "      <td>499.000000</td>\n",
       "      <td>1995.000000</td>\n",
       "      <td>0.000000</td>\n",
       "      <td>70000.000000</td>\n",
       "      <td>0.000000</td>\n",
       "      <td>0.0</td>\n",
       "      <td>14959.000000</td>\n",
       "    </tr>\n",
       "    <tr>\n",
       "      <th>20%</th>\n",
       "      <td>880.000000</td>\n",
       "      <td>1998.000000</td>\n",
       "      <td>60.000000</td>\n",
       "      <td>100000.000000</td>\n",
       "      <td>2.000000</td>\n",
       "      <td>0.0</td>\n",
       "      <td>26169.000000</td>\n",
       "    </tr>\n",
       "    <tr>\n",
       "      <th>30%</th>\n",
       "      <td>1300.000000</td>\n",
       "      <td>2000.000000</td>\n",
       "      <td>75.000000</td>\n",
       "      <td>125000.000000</td>\n",
       "      <td>3.000000</td>\n",
       "      <td>0.0</td>\n",
       "      <td>33611.000000</td>\n",
       "    </tr>\n",
       "    <tr>\n",
       "      <th>40%</th>\n",
       "      <td>1900.000000</td>\n",
       "      <td>2001.000000</td>\n",
       "      <td>90.000000</td>\n",
       "      <td>150000.000000</td>\n",
       "      <td>4.000000</td>\n",
       "      <td>0.0</td>\n",
       "      <td>42389.000000</td>\n",
       "    </tr>\n",
       "    <tr>\n",
       "      <th>50%</th>\n",
       "      <td>2700.000000</td>\n",
       "      <td>2003.000000</td>\n",
       "      <td>105.000000</td>\n",
       "      <td>150000.000000</td>\n",
       "      <td>6.000000</td>\n",
       "      <td>0.0</td>\n",
       "      <td>49413.000000</td>\n",
       "    </tr>\n",
       "    <tr>\n",
       "      <th>60%</th>\n",
       "      <td>3800.000000</td>\n",
       "      <td>2005.000000</td>\n",
       "      <td>116.000000</td>\n",
       "      <td>150000.000000</td>\n",
       "      <td>7.000000</td>\n",
       "      <td>0.0</td>\n",
       "      <td>56766.000000</td>\n",
       "    </tr>\n",
       "    <tr>\n",
       "      <th>70%</th>\n",
       "      <td>5350.000000</td>\n",
       "      <td>2007.000000</td>\n",
       "      <td>136.000000</td>\n",
       "      <td>150000.000000</td>\n",
       "      <td>8.000000</td>\n",
       "      <td>0.0</td>\n",
       "      <td>65931.000000</td>\n",
       "    </tr>\n",
       "    <tr>\n",
       "      <th>80%</th>\n",
       "      <td>7500.000000</td>\n",
       "      <td>2009.000000</td>\n",
       "      <td>150.000000</td>\n",
       "      <td>150000.000000</td>\n",
       "      <td>10.000000</td>\n",
       "      <td>0.0</td>\n",
       "      <td>76185.000000</td>\n",
       "    </tr>\n",
       "    <tr>\n",
       "      <th>90%</th>\n",
       "      <td>11450.000000</td>\n",
       "      <td>2012.000000</td>\n",
       "      <td>179.000000</td>\n",
       "      <td>150000.000000</td>\n",
       "      <td>11.000000</td>\n",
       "      <td>0.0</td>\n",
       "      <td>87776.000000</td>\n",
       "    </tr>\n",
       "    <tr>\n",
       "      <th>100%</th>\n",
       "      <td>20000.000000</td>\n",
       "      <td>9999.000000</td>\n",
       "      <td>20000.000000</td>\n",
       "      <td>150000.000000</td>\n",
       "      <td>12.000000</td>\n",
       "      <td>0.0</td>\n",
       "      <td>99998.000000</td>\n",
       "    </tr>\n",
       "    <tr>\n",
       "      <th>max</th>\n",
       "      <td>20000.000000</td>\n",
       "      <td>9999.000000</td>\n",
       "      <td>20000.000000</td>\n",
       "      <td>150000.000000</td>\n",
       "      <td>12.000000</td>\n",
       "      <td>0.0</td>\n",
       "      <td>99998.000000</td>\n",
       "    </tr>\n",
       "  </tbody>\n",
       "</table>\n",
       "</div>"
      ],
      "text/plain": [
       "               Price  RegistrationYear          Power        Mileage  \\\n",
       "count  354369.000000     354369.000000  354369.000000  354369.000000   \n",
       "mean     4416.656776       2004.234448     110.094337  128211.172535   \n",
       "std      4514.158514         90.227958     189.850405   37905.341530   \n",
       "min         0.000000       1000.000000       0.000000    5000.000000   \n",
       "0%          0.000000       1000.000000       0.000000    5000.000000   \n",
       "10%       499.000000       1995.000000       0.000000   70000.000000   \n",
       "20%       880.000000       1998.000000      60.000000  100000.000000   \n",
       "30%      1300.000000       2000.000000      75.000000  125000.000000   \n",
       "40%      1900.000000       2001.000000      90.000000  150000.000000   \n",
       "50%      2700.000000       2003.000000     105.000000  150000.000000   \n",
       "60%      3800.000000       2005.000000     116.000000  150000.000000   \n",
       "70%      5350.000000       2007.000000     136.000000  150000.000000   \n",
       "80%      7500.000000       2009.000000     150.000000  150000.000000   \n",
       "90%     11450.000000       2012.000000     179.000000  150000.000000   \n",
       "100%    20000.000000       9999.000000   20000.000000  150000.000000   \n",
       "max     20000.000000       9999.000000   20000.000000  150000.000000   \n",
       "\n",
       "       RegistrationMonth  NumberOfPictures     PostalCode  \n",
       "count      354369.000000          354369.0  354369.000000  \n",
       "mean            5.714645               0.0   50508.689087  \n",
       "std             3.726421               0.0   25783.096248  \n",
       "min             0.000000               0.0    1067.000000  \n",
       "0%              0.000000               0.0    1067.000000  \n",
       "10%             0.000000               0.0   14959.000000  \n",
       "20%             2.000000               0.0   26169.000000  \n",
       "30%             3.000000               0.0   33611.000000  \n",
       "40%             4.000000               0.0   42389.000000  \n",
       "50%             6.000000               0.0   49413.000000  \n",
       "60%             7.000000               0.0   56766.000000  \n",
       "70%             8.000000               0.0   65931.000000  \n",
       "80%            10.000000               0.0   76185.000000  \n",
       "90%            11.000000               0.0   87776.000000  \n",
       "100%           12.000000               0.0   99998.000000  \n",
       "max            12.000000               0.0   99998.000000  "
      ]
     },
     "execution_count": 5,
     "metadata": {},
     "output_type": "execute_result"
    }
   ],
   "source": [
    "#Vistazo de las estadísticas descriptivas \n",
    "car_data.describe(percentiles = np.linspace(0,1,11))"
   ]
  },
  {
   "cell_type": "code",
   "execution_count": 6,
   "metadata": {},
   "outputs": [
    {
     "data": {
      "text/plain": [
       "262"
      ]
     },
     "execution_count": 6,
     "metadata": {},
     "output_type": "execute_result"
    }
   ],
   "source": [
    "# Número de duplicados \n",
    "car_data.duplicated().sum()"
   ]
  },
  {
   "cell_type": "code",
   "execution_count": 7,
   "metadata": {},
   "outputs": [],
   "source": [
    "#Eliminación de valores duplicados\n",
    "car_data = car_data.drop_duplicates()"
   ]
  },
  {
   "cell_type": "code",
   "execution_count": 8,
   "metadata": {},
   "outputs": [
    {
     "data": {
      "text/plain": [
       "DateCrawled           0.000000\n",
       "Price                 0.000000\n",
       "VehicleType          10.585501\n",
       "RegistrationYear      0.000000\n",
       "Gearbox               5.600002\n",
       "Power                 0.000000\n",
       "Model                 5.563573\n",
       "Mileage               0.000000\n",
       "RegistrationMonth     0.000000\n",
       "FuelType              9.287871\n",
       "Brand                 0.000000\n",
       "NotRepaired          20.091385\n",
       "DateCreated           0.000000\n",
       "NumberOfPictures      0.000000\n",
       "PostalCode            0.000000\n",
       "LastSeen              0.000000\n",
       "dtype: float64"
      ]
     },
     "execution_count": 8,
     "metadata": {},
     "output_type": "execute_result"
    }
   ],
   "source": [
    "# Valores nulos expresados en porcentajes con relación al dataframe completo\n",
    "car_data.isna().sum()/car_data.shape[0]*100"
   ]
  },
  {
   "cell_type": "markdown",
   "metadata": {},
   "source": [
    "### Análisis columnas no categoricas"
   ]
  },
  {
   "cell_type": "code",
   "execution_count": 9,
   "metadata": {},
   "outputs": [],
   "source": [
    "#Se elimina la columna 'NumberOfPicture'\n",
    "car_data = car_data.drop('NumberOfPictures',axis=1)"
   ]
  },
  {
   "cell_type": "code",
   "execution_count": 10,
   "metadata": {},
   "outputs": [],
   "source": [
    "#Se elimanan los valores nulos de estas columnas, pues su porcentaje de valores nulos es bajo\n",
    "car_data = car_data.dropna(subset=['VehicleType', 'Model', 'Gearbox', 'FuelType'])"
   ]
  },
  {
   "cell_type": "code",
   "execution_count": 11,
   "metadata": {},
   "outputs": [
    {
     "data": {
      "text/plain": [
       "no     217767\n",
       "yes     27800\n",
       "Name: NotRepaired, dtype: int64"
      ]
     },
     "execution_count": 11,
     "metadata": {},
     "output_type": "execute_result"
    }
   ],
   "source": [
    "#Cantidad de vehículos no reparados versus los reparados\n",
    "car_data['NotRepaired'].value_counts()"
   ]
  },
  {
   "cell_type": "markdown",
   "metadata": {},
   "source": [
    "Los valores ausentes de la columna 'NotRepaired' es significativo, después del análisis se procede a llenar dichas filas con el valor representativo que en este caso es 'no'."
   ]
  },
  {
   "cell_type": "code",
   "execution_count": 12,
   "metadata": {},
   "outputs": [],
   "source": [
    "#Llenado de los valores ausentes\n",
    "car_data['NotRepaired'] = car_data['NotRepaired'].fillna('no')"
   ]
  },
  {
   "cell_type": "code",
   "execution_count": 13,
   "metadata": {},
   "outputs": [],
   "source": [
    "#Conversión de columnas a tipo fecha y solo tomamos los años\n",
    "car_data['DateCreated'] = pd.to_datetime(car_data['DateCreated']).dt.to_period('Y')\n",
    "car_data['DateCrawled'] = pd.to_datetime(car_data['DateCrawled']).dt.to_period('Y')\n",
    "car_data['LastSeen'] = pd.to_datetime(car_data['LastSeen']).dt.to_period('Y')"
   ]
  },
  {
   "cell_type": "markdown",
   "metadata": {},
   "source": [
    "### Análisis columnas categóricas"
   ]
  },
  {
   "cell_type": "code",
   "execution_count": 14,
   "metadata": {},
   "outputs": [
    {
     "data": {
      "text/plain": [
       "array([1910, 1919, 1923, 1927, 1928, 1929, 1930, 1931, 1932, 1933, 1934,\n",
       "       1935, 1936, 1937, 1938, 1942, 1943, 1945, 1947, 1950, 1951, 1952,\n",
       "       1953, 1954, 1955, 1956, 1957, 1958, 1959, 1960, 1961, 1962, 1963,\n",
       "       1964, 1965, 1966, 1967, 1968, 1969, 1970, 1971, 1972, 1973, 1974,\n",
       "       1975, 1976, 1977, 1978, 1979, 1980, 1981, 1982, 1983, 1984, 1985,\n",
       "       1986, 1987, 1988, 1989, 1990, 1991, 1992, 1993, 1994, 1995, 1996,\n",
       "       1997, 1998, 1999, 2000, 2001, 2002, 2003, 2004, 2005, 2006, 2007,\n",
       "       2008, 2009, 2010, 2011, 2012, 2013, 2014, 2015, 2016, 2017, 2018])"
      ]
     },
     "execution_count": 14,
     "metadata": {},
     "output_type": "execute_result"
    }
   ],
   "source": [
    "# Análisis columna 'RegistrationYear'\n",
    "car_data['RegistrationYear'].sort_values().unique()"
   ]
  },
  {
   "cell_type": "markdown",
   "metadata": {},
   "source": [
    "Vemos que no hay valores irrelevantes para la creación del modelo"
   ]
  },
  {
   "cell_type": "code",
   "execution_count": 15,
   "metadata": {},
   "outputs": [
    {
     "data": {
      "text/plain": [
       "39"
      ]
     },
     "execution_count": 15,
     "metadata": {},
     "output_type": "execute_result"
    }
   ],
   "source": [
    "# Análisis de la columna 'Brand'\n",
    "car_data['Brand'].nunique()"
   ]
  },
  {
   "cell_type": "markdown",
   "metadata": {},
   "source": [
    "Podemos observar que existen 39 marcas, esto haría que el entranamiento del modelo sea demasiado tedioso, por lo tanto solo tomaremos el top 10."
   ]
  },
  {
   "cell_type": "code",
   "execution_count": 16,
   "metadata": {},
   "outputs": [
    {
     "data": {
      "text/html": [
       "<div>\n",
       "<style scoped>\n",
       "    .dataframe tbody tr th:only-of-type {\n",
       "        vertical-align: middle;\n",
       "    }\n",
       "\n",
       "    .dataframe tbody tr th {\n",
       "        vertical-align: top;\n",
       "    }\n",
       "\n",
       "    .dataframe thead th {\n",
       "        text-align: right;\n",
       "    }\n",
       "</style>\n",
       "<table border=\"1\" class=\"dataframe\">\n",
       "  <thead>\n",
       "    <tr style=\"text-align: right;\">\n",
       "      <th></th>\n",
       "      <th>DateCrawled</th>\n",
       "      <th>Price</th>\n",
       "      <th>VehicleType</th>\n",
       "      <th>RegistrationYear</th>\n",
       "      <th>Gearbox</th>\n",
       "      <th>Power</th>\n",
       "      <th>Model</th>\n",
       "      <th>Mileage</th>\n",
       "      <th>RegistrationMonth</th>\n",
       "      <th>FuelType</th>\n",
       "      <th>NotRepaired</th>\n",
       "      <th>DateCreated</th>\n",
       "      <th>PostalCode</th>\n",
       "      <th>LastSeen</th>\n",
       "    </tr>\n",
       "    <tr>\n",
       "      <th>Brand</th>\n",
       "      <th></th>\n",
       "      <th></th>\n",
       "      <th></th>\n",
       "      <th></th>\n",
       "      <th></th>\n",
       "      <th></th>\n",
       "      <th></th>\n",
       "      <th></th>\n",
       "      <th></th>\n",
       "      <th></th>\n",
       "      <th></th>\n",
       "      <th></th>\n",
       "      <th></th>\n",
       "      <th></th>\n",
       "    </tr>\n",
       "  </thead>\n",
       "  <tbody>\n",
       "    <tr>\n",
       "      <th>volkswagen</th>\n",
       "      <td>60548</td>\n",
       "      <td>60548</td>\n",
       "      <td>60548</td>\n",
       "      <td>60548</td>\n",
       "      <td>60548</td>\n",
       "      <td>60548</td>\n",
       "      <td>60548</td>\n",
       "      <td>60548</td>\n",
       "      <td>60548</td>\n",
       "      <td>60548</td>\n",
       "      <td>60548</td>\n",
       "      <td>60548</td>\n",
       "      <td>60548</td>\n",
       "      <td>60548</td>\n",
       "    </tr>\n",
       "    <tr>\n",
       "      <th>bmw</th>\n",
       "      <td>31217</td>\n",
       "      <td>31217</td>\n",
       "      <td>31217</td>\n",
       "      <td>31217</td>\n",
       "      <td>31217</td>\n",
       "      <td>31217</td>\n",
       "      <td>31217</td>\n",
       "      <td>31217</td>\n",
       "      <td>31217</td>\n",
       "      <td>31217</td>\n",
       "      <td>31217</td>\n",
       "      <td>31217</td>\n",
       "      <td>31217</td>\n",
       "      <td>31217</td>\n",
       "    </tr>\n",
       "    <tr>\n",
       "      <th>opel</th>\n",
       "      <td>30992</td>\n",
       "      <td>30992</td>\n",
       "      <td>30992</td>\n",
       "      <td>30992</td>\n",
       "      <td>30992</td>\n",
       "      <td>30992</td>\n",
       "      <td>30992</td>\n",
       "      <td>30992</td>\n",
       "      <td>30992</td>\n",
       "      <td>30992</td>\n",
       "      <td>30992</td>\n",
       "      <td>30992</td>\n",
       "      <td>30992</td>\n",
       "      <td>30992</td>\n",
       "    </tr>\n",
       "    <tr>\n",
       "      <th>mercedes_benz</th>\n",
       "      <td>27291</td>\n",
       "      <td>27291</td>\n",
       "      <td>27291</td>\n",
       "      <td>27291</td>\n",
       "      <td>27291</td>\n",
       "      <td>27291</td>\n",
       "      <td>27291</td>\n",
       "      <td>27291</td>\n",
       "      <td>27291</td>\n",
       "      <td>27291</td>\n",
       "      <td>27291</td>\n",
       "      <td>27291</td>\n",
       "      <td>27291</td>\n",
       "      <td>27291</td>\n",
       "    </tr>\n",
       "    <tr>\n",
       "      <th>audi</th>\n",
       "      <td>24683</td>\n",
       "      <td>24683</td>\n",
       "      <td>24683</td>\n",
       "      <td>24683</td>\n",
       "      <td>24683</td>\n",
       "      <td>24683</td>\n",
       "      <td>24683</td>\n",
       "      <td>24683</td>\n",
       "      <td>24683</td>\n",
       "      <td>24683</td>\n",
       "      <td>24683</td>\n",
       "      <td>24683</td>\n",
       "      <td>24683</td>\n",
       "      <td>24683</td>\n",
       "    </tr>\n",
       "    <tr>\n",
       "      <th>ford</th>\n",
       "      <td>20102</td>\n",
       "      <td>20102</td>\n",
       "      <td>20102</td>\n",
       "      <td>20102</td>\n",
       "      <td>20102</td>\n",
       "      <td>20102</td>\n",
       "      <td>20102</td>\n",
       "      <td>20102</td>\n",
       "      <td>20102</td>\n",
       "      <td>20102</td>\n",
       "      <td>20102</td>\n",
       "      <td>20102</td>\n",
       "      <td>20102</td>\n",
       "      <td>20102</td>\n",
       "    </tr>\n",
       "    <tr>\n",
       "      <th>renault</th>\n",
       "      <td>13830</td>\n",
       "      <td>13830</td>\n",
       "      <td>13830</td>\n",
       "      <td>13830</td>\n",
       "      <td>13830</td>\n",
       "      <td>13830</td>\n",
       "      <td>13830</td>\n",
       "      <td>13830</td>\n",
       "      <td>13830</td>\n",
       "      <td>13830</td>\n",
       "      <td>13830</td>\n",
       "      <td>13830</td>\n",
       "      <td>13830</td>\n",
       "      <td>13830</td>\n",
       "    </tr>\n",
       "    <tr>\n",
       "      <th>peugeot</th>\n",
       "      <td>8906</td>\n",
       "      <td>8906</td>\n",
       "      <td>8906</td>\n",
       "      <td>8906</td>\n",
       "      <td>8906</td>\n",
       "      <td>8906</td>\n",
       "      <td>8906</td>\n",
       "      <td>8906</td>\n",
       "      <td>8906</td>\n",
       "      <td>8906</td>\n",
       "      <td>8906</td>\n",
       "      <td>8906</td>\n",
       "      <td>8906</td>\n",
       "      <td>8906</td>\n",
       "    </tr>\n",
       "    <tr>\n",
       "      <th>fiat</th>\n",
       "      <td>7467</td>\n",
       "      <td>7467</td>\n",
       "      <td>7467</td>\n",
       "      <td>7467</td>\n",
       "      <td>7467</td>\n",
       "      <td>7467</td>\n",
       "      <td>7467</td>\n",
       "      <td>7467</td>\n",
       "      <td>7467</td>\n",
       "      <td>7467</td>\n",
       "      <td>7467</td>\n",
       "      <td>7467</td>\n",
       "      <td>7467</td>\n",
       "      <td>7467</td>\n",
       "    </tr>\n",
       "    <tr>\n",
       "      <th>seat</th>\n",
       "      <td>5573</td>\n",
       "      <td>5573</td>\n",
       "      <td>5573</td>\n",
       "      <td>5573</td>\n",
       "      <td>5573</td>\n",
       "      <td>5573</td>\n",
       "      <td>5573</td>\n",
       "      <td>5573</td>\n",
       "      <td>5573</td>\n",
       "      <td>5573</td>\n",
       "      <td>5573</td>\n",
       "      <td>5573</td>\n",
       "      <td>5573</td>\n",
       "      <td>5573</td>\n",
       "    </tr>\n",
       "  </tbody>\n",
       "</table>\n",
       "</div>"
      ],
      "text/plain": [
       "               DateCrawled  Price  VehicleType  RegistrationYear  Gearbox  \\\n",
       "Brand                                                                       \n",
       "volkswagen           60548  60548        60548             60548    60548   \n",
       "bmw                  31217  31217        31217             31217    31217   \n",
       "opel                 30992  30992        30992             30992    30992   \n",
       "mercedes_benz        27291  27291        27291             27291    27291   \n",
       "audi                 24683  24683        24683             24683    24683   \n",
       "ford                 20102  20102        20102             20102    20102   \n",
       "renault              13830  13830        13830             13830    13830   \n",
       "peugeot               8906   8906         8906              8906     8906   \n",
       "fiat                  7467   7467         7467              7467     7467   \n",
       "seat                  5573   5573         5573              5573     5573   \n",
       "\n",
       "               Power  Model  Mileage  RegistrationMonth  FuelType  \\\n",
       "Brand                                                               \n",
       "volkswagen     60548  60548    60548              60548     60548   \n",
       "bmw            31217  31217    31217              31217     31217   \n",
       "opel           30992  30992    30992              30992     30992   \n",
       "mercedes_benz  27291  27291    27291              27291     27291   \n",
       "audi           24683  24683    24683              24683     24683   \n",
       "ford           20102  20102    20102              20102     20102   \n",
       "renault        13830  13830    13830              13830     13830   \n",
       "peugeot         8906   8906     8906               8906      8906   \n",
       "fiat            7467   7467     7467               7467      7467   \n",
       "seat            5573   5573     5573               5573      5573   \n",
       "\n",
       "               NotRepaired  DateCreated  PostalCode  LastSeen  \n",
       "Brand                                                          \n",
       "volkswagen           60548        60548       60548     60548  \n",
       "bmw                  31217        31217       31217     31217  \n",
       "opel                 30992        30992       30992     30992  \n",
       "mercedes_benz        27291        27291       27291     27291  \n",
       "audi                 24683        24683       24683     24683  \n",
       "ford                 20102        20102       20102     20102  \n",
       "renault              13830        13830       13830     13830  \n",
       "peugeot               8906         8906        8906      8906  \n",
       "fiat                  7467         7467        7467      7467  \n",
       "seat                  5573         5573        5573      5573  "
      ]
     },
     "execution_count": 16,
     "metadata": {},
     "output_type": "execute_result"
    }
   ],
   "source": [
    "#Número de filas por marca\n",
    "marcas_pop = car_data.groupby('Brand').count().sort_values(by='Price', ascending=False).head(10)\n",
    "marcas_pop"
   ]
  },
  {
   "cell_type": "code",
   "execution_count": 17,
   "metadata": {
    "scrolled": true
   },
   "outputs": [
    {
     "data": {
      "text/plain": [
       "11"
      ]
     },
     "execution_count": 17,
     "metadata": {},
     "output_type": "execute_result"
    }
   ],
   "source": [
    "marcas = ['volkswagen', 'bmw', 'opel', 'mercedes_benz', 'audi', 'ford', 'renault', 'peugeot', 'fiat', 'seat']\n",
    "car_data['Brand'] = car_data['Brand'].where(car_data['Brand'].isin(marcas), other ='other')\n",
    "car_data['Brand'].nunique()"
   ]
  },
  {
   "cell_type": "markdown",
   "metadata": {},
   "source": [
    "Ahora podemos ver que que solo existen 10 marcas y las demás se las renombró como otros"
   ]
  },
  {
   "cell_type": "code",
   "execution_count": 18,
   "metadata": {},
   "outputs": [
    {
     "data": {
      "text/plain": [
       "250"
      ]
     },
     "execution_count": 18,
     "metadata": {},
     "output_type": "execute_result"
    }
   ],
   "source": [
    "#Análisis de la columna Model\n",
    "car_data['Model'].nunique()"
   ]
  },
  {
   "cell_type": "markdown",
   "metadata": {},
   "source": [
    "Al haber tantos datos únicos en esta columna se procede a eliminarla, ya que tampoco es relevante para el modelo"
   ]
  },
  {
   "cell_type": "code",
   "execution_count": 19,
   "metadata": {},
   "outputs": [],
   "source": [
    "#Eliminación de la columna Model\n",
    "car_data = car_data.drop('Model', axis = 1)"
   ]
  },
  {
   "cell_type": "code",
   "execution_count": 20,
   "metadata": {},
   "outputs": [
    {
     "data": {
      "text/plain": [
       "8096"
      ]
     },
     "execution_count": 20,
     "metadata": {},
     "output_type": "execute_result"
    }
   ],
   "source": [
    "#Análisis de la columna Postal Code\n",
    "car_data['PostalCode'].nunique()"
   ]
  },
  {
   "cell_type": "markdown",
   "metadata": {},
   "source": [
    "Se encontraron 8096 valores diferentes en esta columna, también se descarta por no ser de mucha importancia"
   ]
  },
  {
   "cell_type": "code",
   "execution_count": 21,
   "metadata": {},
   "outputs": [],
   "source": [
    "#Eliminación de la columna postal code\n",
    "car_data = car_data.drop('PostalCode', axis= 1)"
   ]
  },
  {
   "cell_type": "markdown",
   "metadata": {},
   "source": [
    "Podemos inferir también que las columnas de LastSeen, DateCrawled, DateCreated y Registration Month no tienen incidencia en nuestra variable objetivo que sería el precio"
   ]
  },
  {
   "cell_type": "code",
   "execution_count": 22,
   "metadata": {},
   "outputs": [],
   "source": [
    "#Eliminación de columnas no relevantes para el modelo\n",
    "car_data = car_data.drop(['DateCrawled', 'LastSeen', 'RegistrationMonth', 'DateCreated'], axis= 1)"
   ]
  },
  {
   "cell_type": "code",
   "execution_count": 23,
   "metadata": {},
   "outputs": [
    {
     "data": {
      "text/html": [
       "<div>\n",
       "<style scoped>\n",
       "    .dataframe tbody tr th:only-of-type {\n",
       "        vertical-align: middle;\n",
       "    }\n",
       "\n",
       "    .dataframe tbody tr th {\n",
       "        vertical-align: top;\n",
       "    }\n",
       "\n",
       "    .dataframe thead th {\n",
       "        text-align: right;\n",
       "    }\n",
       "</style>\n",
       "<table border=\"1\" class=\"dataframe\">\n",
       "  <thead>\n",
       "    <tr style=\"text-align: right;\">\n",
       "      <th></th>\n",
       "      <th>Price</th>\n",
       "      <th>VehicleType</th>\n",
       "      <th>RegistrationYear</th>\n",
       "      <th>Gearbox</th>\n",
       "      <th>Power</th>\n",
       "      <th>Mileage</th>\n",
       "      <th>FuelType</th>\n",
       "      <th>Brand</th>\n",
       "      <th>NotRepaired</th>\n",
       "    </tr>\n",
       "  </thead>\n",
       "  <tbody>\n",
       "    <tr>\n",
       "      <th>2</th>\n",
       "      <td>9800</td>\n",
       "      <td>suv</td>\n",
       "      <td>2004</td>\n",
       "      <td>auto</td>\n",
       "      <td>163</td>\n",
       "      <td>125000</td>\n",
       "      <td>gasoline</td>\n",
       "      <td>other</td>\n",
       "      <td>no</td>\n",
       "    </tr>\n",
       "    <tr>\n",
       "      <th>3</th>\n",
       "      <td>1500</td>\n",
       "      <td>small</td>\n",
       "      <td>2001</td>\n",
       "      <td>manual</td>\n",
       "      <td>75</td>\n",
       "      <td>150000</td>\n",
       "      <td>petrol</td>\n",
       "      <td>volkswagen</td>\n",
       "      <td>no</td>\n",
       "    </tr>\n",
       "    <tr>\n",
       "      <th>4</th>\n",
       "      <td>3600</td>\n",
       "      <td>small</td>\n",
       "      <td>2008</td>\n",
       "      <td>manual</td>\n",
       "      <td>69</td>\n",
       "      <td>90000</td>\n",
       "      <td>gasoline</td>\n",
       "      <td>other</td>\n",
       "      <td>no</td>\n",
       "    </tr>\n",
       "    <tr>\n",
       "      <th>5</th>\n",
       "      <td>650</td>\n",
       "      <td>sedan</td>\n",
       "      <td>1995</td>\n",
       "      <td>manual</td>\n",
       "      <td>102</td>\n",
       "      <td>150000</td>\n",
       "      <td>petrol</td>\n",
       "      <td>bmw</td>\n",
       "      <td>yes</td>\n",
       "    </tr>\n",
       "    <tr>\n",
       "      <th>6</th>\n",
       "      <td>2200</td>\n",
       "      <td>convertible</td>\n",
       "      <td>2004</td>\n",
       "      <td>manual</td>\n",
       "      <td>109</td>\n",
       "      <td>150000</td>\n",
       "      <td>petrol</td>\n",
       "      <td>peugeot</td>\n",
       "      <td>no</td>\n",
       "    </tr>\n",
       "    <tr>\n",
       "      <th>...</th>\n",
       "      <td>...</td>\n",
       "      <td>...</td>\n",
       "      <td>...</td>\n",
       "      <td>...</td>\n",
       "      <td>...</td>\n",
       "      <td>...</td>\n",
       "      <td>...</td>\n",
       "      <td>...</td>\n",
       "      <td>...</td>\n",
       "    </tr>\n",
       "    <tr>\n",
       "      <th>354362</th>\n",
       "      <td>3200</td>\n",
       "      <td>sedan</td>\n",
       "      <td>2004</td>\n",
       "      <td>manual</td>\n",
       "      <td>225</td>\n",
       "      <td>150000</td>\n",
       "      <td>petrol</td>\n",
       "      <td>seat</td>\n",
       "      <td>yes</td>\n",
       "    </tr>\n",
       "    <tr>\n",
       "      <th>354363</th>\n",
       "      <td>1150</td>\n",
       "      <td>bus</td>\n",
       "      <td>2000</td>\n",
       "      <td>manual</td>\n",
       "      <td>0</td>\n",
       "      <td>150000</td>\n",
       "      <td>petrol</td>\n",
       "      <td>opel</td>\n",
       "      <td>no</td>\n",
       "    </tr>\n",
       "    <tr>\n",
       "      <th>354366</th>\n",
       "      <td>1199</td>\n",
       "      <td>convertible</td>\n",
       "      <td>2000</td>\n",
       "      <td>auto</td>\n",
       "      <td>101</td>\n",
       "      <td>125000</td>\n",
       "      <td>petrol</td>\n",
       "      <td>other</td>\n",
       "      <td>no</td>\n",
       "    </tr>\n",
       "    <tr>\n",
       "      <th>354367</th>\n",
       "      <td>9200</td>\n",
       "      <td>bus</td>\n",
       "      <td>1996</td>\n",
       "      <td>manual</td>\n",
       "      <td>102</td>\n",
       "      <td>150000</td>\n",
       "      <td>gasoline</td>\n",
       "      <td>volkswagen</td>\n",
       "      <td>no</td>\n",
       "    </tr>\n",
       "    <tr>\n",
       "      <th>354368</th>\n",
       "      <td>3400</td>\n",
       "      <td>wagon</td>\n",
       "      <td>2002</td>\n",
       "      <td>manual</td>\n",
       "      <td>100</td>\n",
       "      <td>150000</td>\n",
       "      <td>gasoline</td>\n",
       "      <td>volkswagen</td>\n",
       "      <td>no</td>\n",
       "    </tr>\n",
       "  </tbody>\n",
       "</table>\n",
       "<p>283875 rows × 9 columns</p>\n",
       "</div>"
      ],
      "text/plain": [
       "        Price  VehicleType  RegistrationYear Gearbox  Power  Mileage  \\\n",
       "2        9800          suv              2004    auto    163   125000   \n",
       "3        1500        small              2001  manual     75   150000   \n",
       "4        3600        small              2008  manual     69    90000   \n",
       "5         650        sedan              1995  manual    102   150000   \n",
       "6        2200  convertible              2004  manual    109   150000   \n",
       "...       ...          ...               ...     ...    ...      ...   \n",
       "354362   3200        sedan              2004  manual    225   150000   \n",
       "354363   1150          bus              2000  manual      0   150000   \n",
       "354366   1199  convertible              2000    auto    101   125000   \n",
       "354367   9200          bus              1996  manual    102   150000   \n",
       "354368   3400        wagon              2002  manual    100   150000   \n",
       "\n",
       "        FuelType       Brand NotRepaired  \n",
       "2       gasoline       other          no  \n",
       "3         petrol  volkswagen          no  \n",
       "4       gasoline       other          no  \n",
       "5         petrol         bmw         yes  \n",
       "6         petrol     peugeot          no  \n",
       "...          ...         ...         ...  \n",
       "354362    petrol        seat         yes  \n",
       "354363    petrol        opel          no  \n",
       "354366    petrol       other          no  \n",
       "354367  gasoline  volkswagen          no  \n",
       "354368  gasoline  volkswagen          no  \n",
       "\n",
       "[283875 rows x 9 columns]"
      ]
     },
     "execution_count": 23,
     "metadata": {},
     "output_type": "execute_result"
    }
   ],
   "source": [
    "car_data"
   ]
  },
  {
   "cell_type": "markdown",
   "metadata": {},
   "source": [
    "## Entrenamiento del modelo "
   ]
  },
  {
   "cell_type": "code",
   "execution_count": 24,
   "metadata": {},
   "outputs": [],
   "source": [
    "#Separación de los datos en caracteristicas y objetivo\n",
    "features = car_data.drop('Price', axis=1)\n",
    "target =car_data['Price']"
   ]
  },
  {
   "cell_type": "code",
   "execution_count": 25,
   "metadata": {},
   "outputs": [],
   "source": [
    "#Aplicación de OHE para la transformación de características categóricas en numéricas\n",
    "features_ohe = pd.get_dummies(features,drop_first=True)\n",
    "\n",
    "#Separamos en conjunto de entrenamiento y validación en un ratio de 75% y 25%\n",
    "train_features_ohe, valid_features_ohe, train_target_ohe, valid_target_ohe = train_test_split(features_ohe, target,\n",
    "                                                                              test_size=0.25, random_state=12345 )"
   ]
  },
  {
   "cell_type": "markdown",
   "metadata": {},
   "source": [
    "## Análisis del modelo"
   ]
  },
  {
   "cell_type": "markdown",
   "metadata": {},
   "source": [
    "###  Modelo de Regresión Lineal"
   ]
  },
  {
   "cell_type": "code",
   "execution_count": 46,
   "metadata": {},
   "outputs": [
    {
     "name": "stdout",
     "output_type": "stream",
     "text": [
      "CPU times: user 115 ms, sys: 65.1 ms, total: 180 ms\n",
      "Wall time: 105 ms\n",
      "CPU times: user 10.2 ms, sys: 4.09 ms, total: 14.3 ms\n",
      "Wall time: 77.8 ms\n",
      "RMSE:  3041.871935174129\n"
     ]
    }
   ],
   "source": [
    "class LinearRegression:\n",
    "    def fit(self, train_features, train_target):\n",
    "        X = np.concatenate((np.ones((train_features.shape[0], 1)), train_features), axis=1)\n",
    "        y = train_target\n",
    "        w = np.linalg.inv(X.T.dot(X)).dot(X.T).dot(y)\n",
    "        self.w = w[1:]\n",
    "        self.w0 = w[0]\n",
    "\n",
    "    def predict(self, test_features):\n",
    "        return test_features.dot(self.w) + self.w0\n",
    "\n",
    "    \n",
    "model = LinearRegression()\n",
    "%time model.fit(train_features_ohe, train_target_ohe)\n",
    "%time predictions = model.predict(valid_features_ohe)\n",
    "rmse_lr = round(mean_squared_error(valid_target_ohe, predictions),2)\n",
    "print('RMSE: ', rmse_lr**0.5)"
   ]
  },
  {
   "cell_type": "markdown",
   "metadata": {},
   "source": [
    "### Modelo de bosque aleatorio de decisión"
   ]
  },
  {
   "cell_type": "code",
   "execution_count": 31,
   "metadata": {},
   "outputs": [
    {
     "data": {
      "text/plain": [
       "{'max_depth': 10, 'max_features': 'sqrt', 'n_estimators': 10}"
      ]
     },
     "execution_count": 31,
     "metadata": {},
     "output_type": "execute_result"
    }
   ],
   "source": [
    "#Encontramos los mejores parámetros para el modelo\n",
    "model_rfr =RandomForestRegressor(random_state=12345)\n",
    "param_grid = {'n_estimators': [1,2,3,4,6,8,10],'max_features': [ 'sqrt', 'log2'],'max_depth' : [2,3,4,5,6,8,10]}\n",
    "CV_rfr = GridSearchCV(estimator=model_rfr, param_grid=param_grid, cv= 5)\n",
    "CV_rfr.fit(train_features_ohe,train_target_ohe)\n",
    "CV_rfr.best_params_"
   ]
  },
  {
   "cell_type": "code",
   "execution_count": 45,
   "metadata": {},
   "outputs": [
    {
     "name": "stdout",
     "output_type": "stream",
     "text": [
      "CPU times: user 1.17 s, sys: 15.9 ms, total: 1.18 s\n",
      "Wall time: 1.18 s\n",
      "CPU times: user 80.4 ms, sys: 0 ns, total: 80.4 ms\n",
      "Wall time: 80.2 ms\n",
      "RMSE:  2167.103040928142\n"
     ]
    }
   ],
   "source": [
    "#Fijamos el modelo con los parámetros encontrados\n",
    "model_rfr = RandomForestRegressor(random_state=12345, max_depth=10, max_features= 'sqrt',n_estimators=10)\n",
    "%time model_rfr.fit(train_features_ohe, train_target_ohe)\n",
    "%time predicted_valid_rfr = model_rfr.predict(valid_features_ohe)\n",
    "rmse_rfr = round(mean_squared_error(valid_target_ohe, predicted_valid_rfr),2)\n",
    "print('RMSE: ', rmse_rfr**0.5)"
   ]
  },
  {
   "cell_type": "markdown",
   "metadata": {},
   "source": [
    "### Modelo LightGBM"
   ]
  },
  {
   "cell_type": "code",
   "execution_count": 44,
   "metadata": {},
   "outputs": [
    {
     "name": "stdout",
     "output_type": "stream",
     "text": [
      "CPU times: user 37.6 s, sys: 248 ms, total: 37.8 s\n",
      "Wall time: 38 s\n",
      "CPU times: user 511 ms, sys: 0 ns, total: 511 ms\n",
      "Wall time: 512 ms\n",
      "RMSE:  1911.2258291473563\n"
     ]
    }
   ],
   "source": [
    "#Probamos los parámetros para el primer modelo\n",
    "model_lgbm1= ltb.LGBMRegressor(boosting_type='gbdt',num_leaves=15, max_depth=5, learning_rate=0.1, n_estimators=100)\n",
    "%time model_lgbm1.fit(train_features_ohe, train_target_ohe)\n",
    "%time predicted_valid_lgbm1 = model_lgbm1.predict(valid_features_ohe)\n",
    "rmse_lgbm1 = round(mean_squared_error(valid_target_ohe, predicted_valid_lgbm1),2)\n",
    "print('RMSE: ', rmse_lgbm1**0.5)"
   ]
  },
  {
   "cell_type": "code",
   "execution_count": 43,
   "metadata": {},
   "outputs": [
    {
     "name": "stdout",
     "output_type": "stream",
     "text": [
      "CPU times: user 1min 5s, sys: 520 ms, total: 1min 6s\n",
      "Wall time: 1min 6s\n",
      "CPU times: user 439 ms, sys: 0 ns, total: 439 ms\n",
      "Wall time: 431 ms\n",
      "RMSE:  1752.11512178852\n"
     ]
    }
   ],
   "source": [
    "#Probamos los parámetros para el segundo modelo\n",
    "model_lgbm2= ltb.LGBMRegressor(boosting_type='gbdt',num_leaves=25, max_depth=10, learning_rate=0.7, n_estimators=100)\n",
    "%time  model_lgbm2.fit(train_features_ohe, train_target_ohe)\n",
    "%time predicted_valid_lgbm2 = model_lgbm2.predict(valid_features_ohe)\n",
    "rmse_lgbm2 = round(mean_squared_error(valid_target_ohe, predicted_valid_lgbm2),2)\n",
    "print('RMSE: ', rmse_lgbm2**0.5)"
   ]
  },
  {
   "cell_type": "markdown",
   "metadata": {},
   "source": [
    "## Conclusiones"
   ]
  },
  {
   "cell_type": "markdown",
   "metadata": {},
   "source": [
    "Después de analizar los 3 modelos podemos ver que el LightGBM tiene las mejores predicciones pero a su vez demoran mucho para entrenar y predecir los datos a comparación de los otros.\n",
    "\n",
    "En este caso podríamos optar por escoger el modelo de Bosque aleatorio ya que sus predicciones no distan tanto del LightGBM pero el tiempo que se toma para el entrenamiento y posterior predicción de los datos es al menos 38 veces menor."
   ]
  }
 ],
 "metadata": {
  "ExecuteTimeLog": [
   {
    "duration": 6,
    "start_time": "2024-06-21T02:22:53.284Z"
   },
   {
    "duration": 327,
    "start_time": "2024-06-21T02:23:56.423Z"
   },
   {
    "duration": 490,
    "start_time": "2024-06-21T02:24:04.584Z"
   },
   {
    "duration": 846,
    "start_time": "2024-06-21T02:24:06.864Z"
   },
   {
    "duration": 816,
    "start_time": "2024-06-21T02:24:13.245Z"
   },
   {
    "duration": 1124,
    "start_time": "2024-06-21T02:24:26.603Z"
   },
   {
    "duration": 731,
    "start_time": "2024-06-21T02:36:34.755Z"
   },
   {
    "duration": 150,
    "start_time": "2024-06-21T02:36:45.082Z"
   },
   {
    "duration": 61,
    "start_time": "2024-06-21T02:40:20.785Z"
   },
   {
    "duration": 4,
    "start_time": "2024-06-21T02:40:31.299Z"
   },
   {
    "duration": 154,
    "start_time": "2024-06-21T02:40:33.746Z"
   },
   {
    "duration": 459,
    "start_time": "2024-06-24T02:22:46.541Z"
   },
   {
    "duration": 809,
    "start_time": "2024-06-24T02:22:47.003Z"
   },
   {
    "duration": 148,
    "start_time": "2024-06-24T02:22:47.814Z"
   },
   {
    "duration": 159,
    "start_time": "2024-06-24T02:22:47.965Z"
   },
   {
    "duration": 135,
    "start_time": "2024-06-24T02:23:04.246Z"
   },
   {
    "duration": 147,
    "start_time": "2024-06-24T02:23:17.941Z"
   },
   {
    "duration": 140,
    "start_time": "2024-06-24T02:23:31.823Z"
   },
   {
    "duration": 136,
    "start_time": "2024-06-24T02:26:11.166Z"
   },
   {
    "duration": 405,
    "start_time": "2024-06-24T03:02:05.689Z"
   },
   {
    "duration": 1555,
    "start_time": "2024-06-24T03:05:10.467Z"
   },
   {
    "duration": 394,
    "start_time": "2024-06-24T03:05:39.096Z"
   },
   {
    "duration": 435,
    "start_time": "2024-06-24T03:09:05.775Z"
   },
   {
    "duration": 140,
    "start_time": "2024-06-24T03:09:15.217Z"
   },
   {
    "duration": 535,
    "start_time": "2024-06-24T03:10:26.910Z"
   },
   {
    "duration": 422,
    "start_time": "2024-06-24T03:13:16.372Z"
   },
   {
    "duration": 412,
    "start_time": "2024-06-24T03:13:22.764Z"
   },
   {
    "duration": 462,
    "start_time": "2024-06-24T03:16:01.951Z"
   },
   {
    "duration": 29,
    "start_time": "2024-06-24T03:35:09.006Z"
   },
   {
    "duration": 145,
    "start_time": "2024-06-24T03:45:18.679Z"
   },
   {
    "duration": 35,
    "start_time": "2024-06-24T03:46:54.495Z"
   },
   {
    "duration": 25,
    "start_time": "2024-06-24T03:48:42.276Z"
   },
   {
    "duration": 21,
    "start_time": "2024-06-24T03:48:50.484Z"
   },
   {
    "duration": 294,
    "start_time": "2024-06-24T03:49:08.153Z"
   },
   {
    "duration": 77,
    "start_time": "2024-06-24T03:49:24.283Z"
   },
   {
    "duration": 22,
    "start_time": "2024-06-24T03:50:38.708Z"
   },
   {
    "duration": 26,
    "start_time": "2024-06-24T03:50:56.528Z"
   },
   {
    "duration": 22,
    "start_time": "2024-06-24T03:52:53.903Z"
   },
   {
    "duration": 83,
    "start_time": "2024-06-24T03:53:13.230Z"
   },
   {
    "duration": 28,
    "start_time": "2024-06-24T03:55:00.523Z"
   },
   {
    "duration": 15,
    "start_time": "2024-06-24T03:55:16.648Z"
   },
   {
    "duration": 16,
    "start_time": "2024-06-24T03:55:25.204Z"
   },
   {
    "duration": 8,
    "start_time": "2024-06-24T03:55:27.705Z"
   },
   {
    "duration": 5,
    "start_time": "2024-06-24T03:55:32.888Z"
   },
   {
    "duration": 6,
    "start_time": "2024-06-24T03:55:34.361Z"
   },
   {
    "duration": 722,
    "start_time": "2024-06-24T03:55:47.209Z"
   },
   {
    "duration": 416,
    "start_time": "2024-06-24T03:55:54.368Z"
   },
   {
    "duration": 714,
    "start_time": "2024-06-24T03:55:54.789Z"
   },
   {
    "duration": 47,
    "start_time": "2024-06-24T03:55:55.506Z"
   },
   {
    "duration": 154,
    "start_time": "2024-06-24T03:55:55.556Z"
   },
   {
    "duration": 138,
    "start_time": "2024-06-24T03:55:55.725Z"
   },
   {
    "duration": 431,
    "start_time": "2024-06-24T03:55:55.866Z"
   },
   {
    "duration": 470,
    "start_time": "2024-06-24T03:55:56.300Z"
   },
   {
    "duration": 154,
    "start_time": "2024-06-24T03:55:56.772Z"
   },
   {
    "duration": 35,
    "start_time": "2024-06-24T03:55:56.929Z"
   },
   {
    "duration": 32,
    "start_time": "2024-06-24T03:55:59.763Z"
   },
   {
    "duration": 105,
    "start_time": "2024-06-24T03:56:21.227Z"
   },
   {
    "duration": 77,
    "start_time": "2024-06-24T03:56:32.981Z"
   },
   {
    "duration": 111,
    "start_time": "2024-06-24T03:56:39.198Z"
   },
   {
    "duration": 193,
    "start_time": "2024-06-24T03:56:50.870Z"
   },
   {
    "duration": 212,
    "start_time": "2024-06-24T03:57:35.448Z"
   },
   {
    "duration": 233,
    "start_time": "2024-06-24T03:58:21.603Z"
   },
   {
    "duration": 235,
    "start_time": "2024-06-24T03:58:37.981Z"
   },
   {
    "duration": 99,
    "start_time": "2024-06-24T04:00:43.402Z"
   },
   {
    "duration": 108,
    "start_time": "2024-06-24T04:01:34.053Z"
   },
   {
    "duration": 111,
    "start_time": "2024-06-24T04:01:48.048Z"
   },
   {
    "duration": 34,
    "start_time": "2024-06-24T04:07:02.920Z"
   },
   {
    "duration": 23,
    "start_time": "2024-06-24T04:08:17.369Z"
   },
   {
    "duration": 34410,
    "start_time": "2024-06-24T04:12:12.449Z"
   },
   {
    "duration": 0,
    "start_time": "2024-06-24T04:12:46.862Z"
   },
   {
    "duration": 78,
    "start_time": "2024-06-24T04:15:07.895Z"
   },
   {
    "duration": 78,
    "start_time": "2024-06-24T04:15:32.933Z"
   },
   {
    "duration": 89,
    "start_time": "2024-06-24T04:16:31.359Z"
   },
   {
    "duration": 75,
    "start_time": "2024-06-24T04:17:32.454Z"
   },
   {
    "duration": 80,
    "start_time": "2024-06-24T04:20:54.678Z"
   },
   {
    "duration": 78,
    "start_time": "2024-06-24T04:21:14.847Z"
   },
   {
    "duration": 99,
    "start_time": "2024-06-24T04:21:31.844Z"
   },
   {
    "duration": 78,
    "start_time": "2024-06-24T04:22:25.205Z"
   },
   {
    "duration": 417,
    "start_time": "2024-06-24T04:22:37.262Z"
   },
   {
    "duration": 719,
    "start_time": "2024-06-24T04:22:37.684Z"
   },
   {
    "duration": 44,
    "start_time": "2024-06-24T04:22:38.406Z"
   },
   {
    "duration": 160,
    "start_time": "2024-06-24T04:22:38.455Z"
   },
   {
    "duration": 146,
    "start_time": "2024-06-24T04:22:38.625Z"
   },
   {
    "duration": 428,
    "start_time": "2024-06-24T04:22:38.774Z"
   },
   {
    "duration": 473,
    "start_time": "2024-06-24T04:22:39.205Z"
   },
   {
    "duration": 158,
    "start_time": "2024-06-24T04:22:39.681Z"
   },
   {
    "duration": 156,
    "start_time": "2024-06-24T04:22:39.842Z"
   },
   {
    "duration": 38,
    "start_time": "2024-06-24T04:22:40.001Z"
   },
   {
    "duration": 22,
    "start_time": "2024-06-24T04:22:40.042Z"
   },
   {
    "duration": 112,
    "start_time": "2024-06-24T04:22:40.066Z"
   },
   {
    "duration": 43,
    "start_time": "2024-06-24T04:22:40.181Z"
   },
   {
    "duration": 33143,
    "start_time": "2024-06-24T04:23:42.507Z"
   },
   {
    "duration": 35,
    "start_time": "2024-06-24T04:24:15.653Z"
   },
   {
    "duration": 113,
    "start_time": "2024-06-24T04:24:24.231Z"
   },
   {
    "duration": 32636,
    "start_time": "2024-06-24T04:24:45.326Z"
   },
   {
    "duration": 84,
    "start_time": "2024-06-24T04:25:17.965Z"
   },
   {
    "duration": 145,
    "start_time": "2024-06-24T04:27:39.980Z"
   },
   {
    "duration": 31,
    "start_time": "2024-06-24T04:27:44.944Z"
   },
   {
    "duration": 637,
    "start_time": "2024-06-24T04:28:16.738Z"
   },
   {
    "duration": 442,
    "start_time": "2024-06-24T04:28:41.949Z"
   },
   {
    "duration": 718,
    "start_time": "2024-06-24T04:28:42.395Z"
   },
   {
    "duration": 44,
    "start_time": "2024-06-24T04:28:43.115Z"
   },
   {
    "duration": 168,
    "start_time": "2024-06-24T04:28:43.162Z"
   },
   {
    "duration": 152,
    "start_time": "2024-06-24T04:28:43.335Z"
   },
   {
    "duration": 422,
    "start_time": "2024-06-24T04:28:43.491Z"
   },
   {
    "duration": 460,
    "start_time": "2024-06-24T04:28:43.916Z"
   },
   {
    "duration": 151,
    "start_time": "2024-06-24T04:28:44.378Z"
   },
   {
    "duration": 149,
    "start_time": "2024-06-24T04:28:44.532Z"
   },
   {
    "duration": 43,
    "start_time": "2024-06-24T04:28:44.684Z"
   },
   {
    "duration": 23,
    "start_time": "2024-06-24T04:28:44.730Z"
   },
   {
    "duration": 64000,
    "start_time": "2024-06-24T04:28:44.756Z"
   },
   {
    "duration": 9,
    "start_time": "2024-06-24T04:30:42.189Z"
   },
   {
    "duration": 10,
    "start_time": "2024-06-24T04:30:50.303Z"
   },
   {
    "duration": 355,
    "start_time": "2024-06-24T04:31:05.500Z"
   },
   {
    "duration": 8,
    "start_time": "2024-06-24T04:31:25.331Z"
   },
   {
    "duration": 29,
    "start_time": "2024-06-24T04:31:42.137Z"
   },
   {
    "duration": 30,
    "start_time": "2024-06-24T04:34:33.539Z"
   },
   {
    "duration": 27,
    "start_time": "2024-06-24T04:34:41.185Z"
   },
   {
    "duration": 50,
    "start_time": "2024-06-24T04:34:50.182Z"
   },
   {
    "duration": 27,
    "start_time": "2024-06-24T04:35:02.706Z"
   },
   {
    "duration": 43,
    "start_time": "2024-06-24T04:35:08.735Z"
   },
   {
    "duration": 24,
    "start_time": "2024-06-24T04:35:18.573Z"
   },
   {
    "duration": 41,
    "start_time": "2024-06-24T04:35:30.350Z"
   },
   {
    "duration": 24,
    "start_time": "2024-06-24T04:37:51.300Z"
   },
   {
    "duration": 136,
    "start_time": "2024-06-24T04:37:57.834Z"
   },
   {
    "duration": 132,
    "start_time": "2024-06-24T04:39:03.564Z"
   },
   {
    "duration": 69,
    "start_time": "2024-06-24T04:39:49.562Z"
   },
   {
    "duration": 152,
    "start_time": "2024-06-24T04:41:11.798Z"
   },
   {
    "duration": 33,
    "start_time": "2024-06-24T04:41:50.277Z"
   },
   {
    "duration": 32,
    "start_time": "2024-06-24T04:41:59.143Z"
   },
   {
    "duration": 44,
    "start_time": "2024-06-24T04:42:16.245Z"
   },
   {
    "duration": 683,
    "start_time": "2024-06-24T04:42:28.006Z"
   },
   {
    "duration": 49,
    "start_time": "2024-06-24T04:42:56.433Z"
   },
   {
    "duration": 40,
    "start_time": "2024-06-24T04:43:04.571Z"
   },
   {
    "duration": 16,
    "start_time": "2024-06-24T04:43:46.016Z"
   },
   {
    "duration": 42,
    "start_time": "2024-06-24T04:43:57.181Z"
   },
   {
    "duration": 27,
    "start_time": "2024-06-24T04:44:03.133Z"
   },
   {
    "duration": 5,
    "start_time": "2024-06-24T04:44:30.564Z"
   },
   {
    "duration": 13,
    "start_time": "2024-06-24T04:44:43.694Z"
   },
   {
    "duration": 33,
    "start_time": "2024-06-24T04:44:59.332Z"
   },
   {
    "duration": 5,
    "start_time": "2024-06-24T04:45:47.615Z"
   },
   {
    "duration": 24,
    "start_time": "2024-06-24T04:52:17.533Z"
   },
   {
    "duration": 536,
    "start_time": "2024-06-24T04:52:23.634Z"
   },
   {
    "duration": 887,
    "start_time": "2024-06-24T04:52:24.176Z"
   },
   {
    "duration": 87,
    "start_time": "2024-06-24T04:52:25.067Z"
   },
   {
    "duration": 173,
    "start_time": "2024-06-24T04:52:25.161Z"
   },
   {
    "duration": 146,
    "start_time": "2024-06-24T04:52:25.336Z"
   },
   {
    "duration": 494,
    "start_time": "2024-06-24T04:52:25.486Z"
   },
   {
    "duration": 487,
    "start_time": "2024-06-24T04:52:25.983Z"
   },
   {
    "duration": 163,
    "start_time": "2024-06-24T04:52:26.473Z"
   },
   {
    "duration": 52,
    "start_time": "2024-06-24T04:52:26.639Z"
   },
   {
    "duration": 156,
    "start_time": "2024-06-24T04:52:26.698Z"
   },
   {
    "duration": 35,
    "start_time": "2024-06-24T04:52:26.856Z"
   },
   {
    "duration": 36,
    "start_time": "2024-06-24T04:52:26.895Z"
   },
   {
    "duration": 64637,
    "start_time": "2024-06-24T04:52:26.935Z"
   },
   {
    "duration": 30,
    "start_time": "2024-06-24T04:53:31.575Z"
   },
   {
    "duration": 54,
    "start_time": "2024-06-24T04:53:31.608Z"
   },
   {
    "duration": 33,
    "start_time": "2024-06-24T04:53:31.665Z"
   },
   {
    "duration": 12,
    "start_time": "2024-06-24T04:53:31.723Z"
   },
   {
    "duration": 29,
    "start_time": "2024-06-24T04:53:43.305Z"
   },
   {
    "duration": 42,
    "start_time": "2024-06-24T04:54:14.700Z"
   },
   {
    "duration": 37,
    "start_time": "2024-06-24T04:55:20.489Z"
   },
   {
    "duration": 4,
    "start_time": "2024-06-24T04:55:34.476Z"
   },
   {
    "duration": 39,
    "start_time": "2024-06-24T04:57:02.995Z"
   },
   {
    "duration": 36,
    "start_time": "2024-06-24T04:58:09.312Z"
   },
   {
    "duration": 52,
    "start_time": "2024-06-24T04:58:44.650Z"
   },
   {
    "duration": 24,
    "start_time": "2024-06-24T04:59:20.394Z"
   },
   {
    "duration": 42,
    "start_time": "2024-06-24T04:59:36.088Z"
   },
   {
    "duration": 41,
    "start_time": "2024-06-24T04:59:37.845Z"
   },
   {
    "duration": 35,
    "start_time": "2024-06-24T04:59:39.911Z"
   },
   {
    "duration": 7,
    "start_time": "2024-06-24T04:59:44.534Z"
   },
   {
    "duration": 420,
    "start_time": "2024-06-24T05:00:03.768Z"
   },
   {
    "duration": 742,
    "start_time": "2024-06-24T05:00:04.192Z"
   },
   {
    "duration": 45,
    "start_time": "2024-06-24T05:00:04.938Z"
   },
   {
    "duration": 161,
    "start_time": "2024-06-24T05:00:04.988Z"
   },
   {
    "duration": 142,
    "start_time": "2024-06-24T05:00:05.154Z"
   },
   {
    "duration": 430,
    "start_time": "2024-06-24T05:00:05.298Z"
   },
   {
    "duration": 472,
    "start_time": "2024-06-24T05:00:05.736Z"
   },
   {
    "duration": 156,
    "start_time": "2024-06-24T05:00:06.211Z"
   },
   {
    "duration": 70,
    "start_time": "2024-06-24T05:00:06.370Z"
   },
   {
    "duration": 135,
    "start_time": "2024-06-24T05:00:06.446Z"
   },
   {
    "duration": 41,
    "start_time": "2024-06-24T05:00:06.584Z"
   },
   {
    "duration": 28,
    "start_time": "2024-06-24T05:00:06.627Z"
   },
   {
    "duration": 65536,
    "start_time": "2024-06-24T05:00:06.660Z"
   },
   {
    "duration": 43,
    "start_time": "2024-06-24T05:01:12.199Z"
   },
   {
    "duration": 50,
    "start_time": "2024-06-24T05:01:12.246Z"
   },
   {
    "duration": 70,
    "start_time": "2024-06-24T05:01:12.299Z"
   },
   {
    "duration": 9,
    "start_time": "2024-06-24T05:01:12.372Z"
   },
   {
    "duration": 8,
    "start_time": "2024-06-24T05:02:59.275Z"
   },
   {
    "duration": 48,
    "start_time": "2024-06-24T05:03:16.058Z"
   },
   {
    "duration": 16,
    "start_time": "2024-06-24T05:03:17.921Z"
   },
   {
    "duration": 214,
    "start_time": "2024-06-24T05:03:45.127Z"
   },
   {
    "duration": 485,
    "start_time": "2024-06-27T02:42:23.825Z"
   },
   {
    "duration": 926,
    "start_time": "2024-06-27T02:42:24.316Z"
   },
   {
    "duration": 43,
    "start_time": "2024-06-27T02:42:25.246Z"
   },
   {
    "duration": 206,
    "start_time": "2024-06-27T02:42:25.292Z"
   },
   {
    "duration": 168,
    "start_time": "2024-06-27T02:42:25.505Z"
   },
   {
    "duration": 466,
    "start_time": "2024-06-27T02:42:25.676Z"
   },
   {
    "duration": 499,
    "start_time": "2024-06-27T02:42:26.145Z"
   },
   {
    "duration": 175,
    "start_time": "2024-06-27T02:42:26.647Z"
   },
   {
    "duration": 56,
    "start_time": "2024-06-27T02:42:26.825Z"
   },
   {
    "duration": 168,
    "start_time": "2024-06-27T02:42:26.884Z"
   },
   {
    "duration": 34,
    "start_time": "2024-06-27T02:42:27.057Z"
   },
   {
    "duration": 26,
    "start_time": "2024-06-27T02:42:27.111Z"
   },
   {
    "duration": 64946,
    "start_time": "2024-06-27T02:42:27.143Z"
   },
   {
    "duration": 33,
    "start_time": "2024-06-27T02:43:32.095Z"
   },
   {
    "duration": 41,
    "start_time": "2024-06-27T02:43:32.131Z"
   },
   {
    "duration": 81,
    "start_time": "2024-06-27T02:43:32.174Z"
   },
   {
    "duration": 9,
    "start_time": "2024-06-27T02:43:32.257Z"
   },
   {
    "duration": 8,
    "start_time": "2024-06-27T02:44:10.317Z"
   },
   {
    "duration": 44,
    "start_time": "2024-06-27T02:44:24.113Z"
   },
   {
    "duration": 40,
    "start_time": "2024-06-27T02:45:55.749Z"
   },
   {
    "duration": 32,
    "start_time": "2024-06-27T02:45:59.860Z"
   },
   {
    "duration": 6,
    "start_time": "2024-06-27T02:49:39.363Z"
   },
   {
    "duration": 472,
    "start_time": "2024-06-27T02:49:53.505Z"
   },
   {
    "duration": 736,
    "start_time": "2024-06-27T02:49:53.982Z"
   },
   {
    "duration": 37,
    "start_time": "2024-06-27T02:49:54.721Z"
   },
   {
    "duration": 166,
    "start_time": "2024-06-27T02:49:54.761Z"
   },
   {
    "duration": 176,
    "start_time": "2024-06-27T02:49:54.933Z"
   },
   {
    "duration": 424,
    "start_time": "2024-06-27T02:49:55.113Z"
   },
   {
    "duration": 472,
    "start_time": "2024-06-27T02:49:55.540Z"
   },
   {
    "duration": 147,
    "start_time": "2024-06-27T02:49:56.015Z"
   },
   {
    "duration": 61,
    "start_time": "2024-06-27T02:49:56.165Z"
   },
   {
    "duration": 145,
    "start_time": "2024-06-27T02:49:56.229Z"
   },
   {
    "duration": 39,
    "start_time": "2024-06-27T02:49:56.377Z"
   },
   {
    "duration": 23,
    "start_time": "2024-06-27T02:49:56.419Z"
   },
   {
    "duration": 63381,
    "start_time": "2024-06-27T02:49:56.445Z"
   },
   {
    "duration": 30,
    "start_time": "2024-06-27T02:50:59.830Z"
   },
   {
    "duration": 66,
    "start_time": "2024-06-27T02:50:59.864Z"
   },
   {
    "duration": 32,
    "start_time": "2024-06-27T02:50:59.934Z"
   },
   {
    "duration": 9,
    "start_time": "2024-06-27T02:50:59.969Z"
   },
   {
    "duration": 371,
    "start_time": "2024-06-27T02:51:42.038Z"
   },
   {
    "duration": 30,
    "start_time": "2024-06-27T02:51:56.124Z"
   },
   {
    "duration": 7,
    "start_time": "2024-06-27T02:51:58.604Z"
   },
   {
    "duration": 48,
    "start_time": "2024-06-27T02:52:04.260Z"
   },
   {
    "duration": 31,
    "start_time": "2024-06-27T02:52:11.640Z"
   },
   {
    "duration": 7,
    "start_time": "2024-06-27T02:52:52.150Z"
   },
   {
    "duration": 3,
    "start_time": "2024-06-27T02:53:25.625Z"
   },
   {
    "duration": 6,
    "start_time": "2024-06-27T02:53:35.273Z"
   },
   {
    "duration": 39,
    "start_time": "2024-06-27T02:53:46.498Z"
   },
   {
    "duration": 6,
    "start_time": "2024-06-27T02:53:57.433Z"
   },
   {
    "duration": 463,
    "start_time": "2024-06-27T02:54:33.626Z"
   },
   {
    "duration": 763,
    "start_time": "2024-06-27T02:54:34.093Z"
   },
   {
    "duration": 39,
    "start_time": "2024-06-27T02:54:34.859Z"
   },
   {
    "duration": 150,
    "start_time": "2024-06-27T02:54:34.913Z"
   },
   {
    "duration": 148,
    "start_time": "2024-06-27T02:54:35.069Z"
   },
   {
    "duration": 404,
    "start_time": "2024-06-27T02:54:35.220Z"
   },
   {
    "duration": 462,
    "start_time": "2024-06-27T02:54:35.627Z"
   },
   {
    "duration": 143,
    "start_time": "2024-06-27T02:54:36.092Z"
   },
   {
    "duration": 54,
    "start_time": "2024-06-27T02:54:36.239Z"
   },
   {
    "duration": 131,
    "start_time": "2024-06-27T02:54:36.314Z"
   },
   {
    "duration": 34,
    "start_time": "2024-06-27T02:54:36.448Z"
   },
   {
    "duration": 37,
    "start_time": "2024-06-27T02:54:36.485Z"
   },
   {
    "duration": 63425,
    "start_time": "2024-06-27T02:54:36.525Z"
   },
   {
    "duration": 30,
    "start_time": "2024-06-27T02:55:39.954Z"
   },
   {
    "duration": 57,
    "start_time": "2024-06-27T02:55:39.986Z"
   },
   {
    "duration": 30,
    "start_time": "2024-06-27T02:55:40.046Z"
   },
   {
    "duration": 33,
    "start_time": "2024-06-27T02:55:40.079Z"
   },
   {
    "duration": 5,
    "start_time": "2024-06-27T02:56:05.867Z"
   },
   {
    "duration": 30,
    "start_time": "2024-06-27T02:56:08.656Z"
   },
   {
    "duration": 5,
    "start_time": "2024-06-27T02:56:10.592Z"
   },
   {
    "duration": 30,
    "start_time": "2024-06-27T02:56:24.637Z"
   },
   {
    "duration": 5,
    "start_time": "2024-06-27T02:56:26.690Z"
   },
   {
    "duration": 6,
    "start_time": "2024-06-27T02:59:18.901Z"
   },
   {
    "duration": 30,
    "start_time": "2024-06-27T02:59:21.440Z"
   },
   {
    "duration": 6,
    "start_time": "2024-06-27T02:59:23.996Z"
   },
   {
    "duration": 1003,
    "start_time": "2024-06-27T03:07:32.749Z"
   },
   {
    "duration": 6,
    "start_time": "2024-06-27T03:07:41.789Z"
   },
   {
    "duration": 44,
    "start_time": "2024-06-27T03:08:31.621Z"
   },
   {
    "duration": 30,
    "start_time": "2024-06-27T03:09:13.845Z"
   },
   {
    "duration": 9,
    "start_time": "2024-06-27T03:09:18.040Z"
   },
   {
    "duration": 464,
    "start_time": "2024-06-27T03:09:32.880Z"
   },
   {
    "duration": 9,
    "start_time": "2024-06-27T03:09:38.947Z"
   },
   {
    "duration": 21,
    "start_time": "2024-06-27T03:12:26.980Z"
   },
   {
    "duration": 8,
    "start_time": "2024-06-27T03:13:27.874Z"
   },
   {
    "duration": 9,
    "start_time": "2024-06-27T03:13:55.205Z"
   },
   {
    "duration": 47,
    "start_time": "2024-06-27T03:14:11.276Z"
   },
   {
    "duration": 9,
    "start_time": "2024-06-27T03:14:45.917Z"
   },
   {
    "duration": 23,
    "start_time": "2024-06-27T03:15:13.701Z"
   },
   {
    "duration": 8,
    "start_time": "2024-06-27T03:15:16.216Z"
   },
   {
    "duration": 135,
    "start_time": "2024-06-27T03:15:44.701Z"
   },
   {
    "duration": 113,
    "start_time": "2024-06-27T03:16:22.196Z"
   },
   {
    "duration": 16,
    "start_time": "2024-06-27T03:16:24.462Z"
   },
   {
    "duration": 115,
    "start_time": "2024-06-27T03:18:04.629Z"
   },
   {
    "duration": 18,
    "start_time": "2024-06-27T03:18:07.841Z"
   },
   {
    "duration": 114,
    "start_time": "2024-06-27T03:21:04.380Z"
   },
   {
    "duration": 15,
    "start_time": "2024-06-27T03:21:06.514Z"
   },
   {
    "duration": 115,
    "start_time": "2024-06-27T03:23:34.052Z"
   },
   {
    "duration": 131,
    "start_time": "2024-06-27T03:24:06.560Z"
   },
   {
    "duration": 31,
    "start_time": "2024-06-27T03:24:12.761Z"
   },
   {
    "duration": 186,
    "start_time": "2024-06-27T03:26:27.661Z"
   },
   {
    "duration": 25,
    "start_time": "2024-06-27T03:26:36.602Z"
   },
   {
    "duration": 62,
    "start_time": "2024-06-27T03:27:11.854Z"
   },
   {
    "duration": 40,
    "start_time": "2024-06-27T03:32:14.479Z"
   },
   {
    "duration": 41,
    "start_time": "2024-06-27T03:34:00.084Z"
   },
   {
    "duration": 17,
    "start_time": "2024-06-27T03:37:24.415Z"
   },
   {
    "duration": 101,
    "start_time": "2024-06-27T03:44:44.294Z"
   },
   {
    "duration": 30,
    "start_time": "2024-06-27T03:47:24.781Z"
   },
   {
    "duration": 63,
    "start_time": "2024-06-27T03:54:03.617Z"
   },
   {
    "duration": 12,
    "start_time": "2024-06-27T03:56:37.268Z"
   },
   {
    "duration": 7,
    "start_time": "2024-06-27T03:58:20.271Z"
   },
   {
    "duration": 18,
    "start_time": "2024-06-27T03:59:13.791Z"
   },
   {
    "duration": 49,
    "start_time": "2024-06-27T03:59:43.240Z"
   },
   {
    "duration": 694,
    "start_time": "2024-06-27T04:02:17.576Z"
   },
   {
    "duration": 73,
    "start_time": "2024-06-27T04:02:40.927Z"
   },
   {
    "duration": 68,
    "start_time": "2024-06-27T04:04:08.501Z"
   },
   {
    "duration": 96,
    "start_time": "2024-06-27T04:04:39.916Z"
   },
   {
    "duration": 90,
    "start_time": "2024-06-27T04:05:02.969Z"
   },
   {
    "duration": 478,
    "start_time": "2024-06-27T04:05:10.021Z"
   },
   {
    "duration": 735,
    "start_time": "2024-06-27T04:05:10.502Z"
   },
   {
    "duration": 37,
    "start_time": "2024-06-27T04:05:11.240Z"
   },
   {
    "duration": 175,
    "start_time": "2024-06-27T04:05:11.280Z"
   },
   {
    "duration": 155,
    "start_time": "2024-06-27T04:05:11.461Z"
   },
   {
    "duration": 421,
    "start_time": "2024-06-27T04:05:11.619Z"
   },
   {
    "duration": 467,
    "start_time": "2024-06-27T04:05:12.042Z"
   },
   {
    "duration": 149,
    "start_time": "2024-06-27T04:05:12.512Z"
   },
   {
    "duration": 68,
    "start_time": "2024-06-27T04:05:12.663Z"
   },
   {
    "duration": 144,
    "start_time": "2024-06-27T04:05:12.734Z"
   },
   {
    "duration": 38,
    "start_time": "2024-06-27T04:05:12.881Z"
   },
   {
    "duration": 23,
    "start_time": "2024-06-27T04:05:12.921Z"
   },
   {
    "duration": 63189,
    "start_time": "2024-06-27T04:05:12.947Z"
   },
   {
    "duration": 29,
    "start_time": "2024-06-27T04:06:16.141Z"
   },
   {
    "duration": 61,
    "start_time": "2024-06-27T04:06:16.173Z"
   },
   {
    "duration": 139,
    "start_time": "2024-06-27T04:06:16.237Z"
   },
   {
    "duration": 71,
    "start_time": "2024-06-27T04:06:16.378Z"
   },
   {
    "duration": 42,
    "start_time": "2024-06-27T04:06:16.452Z"
   },
   {
    "duration": 21,
    "start_time": "2024-06-27T04:06:16.513Z"
   },
   {
    "duration": 11,
    "start_time": "2024-06-27T04:06:16.536Z"
   },
   {
    "duration": 20,
    "start_time": "2024-06-27T04:06:16.551Z"
   },
   {
    "duration": 64,
    "start_time": "2024-06-27T04:06:16.573Z"
   },
   {
    "duration": 45,
    "start_time": "2024-06-27T04:06:16.640Z"
   },
   {
    "duration": 47,
    "start_time": "2024-06-27T04:14:23.561Z"
   },
   {
    "duration": 46,
    "start_time": "2024-06-27T04:17:31.294Z"
   },
   {
    "duration": 46,
    "start_time": "2024-06-27T04:17:45.538Z"
   },
   {
    "duration": 46,
    "start_time": "2024-06-27T04:20:15.073Z"
   },
   {
    "duration": 19,
    "start_time": "2024-06-27T04:25:08.880Z"
   },
   {
    "duration": 1783,
    "start_time": "2024-06-27T04:25:25.866Z"
   },
   {
    "duration": 72,
    "start_time": "2024-06-27T04:25:57.241Z"
   },
   {
    "duration": 467,
    "start_time": "2024-06-27T04:26:05.211Z"
   },
   {
    "duration": 727,
    "start_time": "2024-06-27T04:26:05.682Z"
   },
   {
    "duration": 41,
    "start_time": "2024-06-27T04:26:06.411Z"
   },
   {
    "duration": 168,
    "start_time": "2024-06-27T04:26:06.456Z"
   },
   {
    "duration": 149,
    "start_time": "2024-06-27T04:26:06.629Z"
   },
   {
    "duration": 414,
    "start_time": "2024-06-27T04:26:06.781Z"
   },
   {
    "duration": 467,
    "start_time": "2024-06-27T04:26:07.197Z"
   },
   {
    "duration": 150,
    "start_time": "2024-06-27T04:26:07.667Z"
   },
   {
    "duration": 56,
    "start_time": "2024-06-27T04:26:07.820Z"
   },
   {
    "duration": 150,
    "start_time": "2024-06-27T04:26:07.879Z"
   },
   {
    "duration": 40,
    "start_time": "2024-06-27T04:26:08.032Z"
   },
   {
    "duration": 40,
    "start_time": "2024-06-27T04:26:08.075Z"
   },
   {
    "duration": 63698,
    "start_time": "2024-06-27T04:26:08.119Z"
   },
   {
    "duration": 28,
    "start_time": "2024-06-27T04:27:11.823Z"
   },
   {
    "duration": 61,
    "start_time": "2024-06-27T04:27:11.856Z"
   },
   {
    "duration": 137,
    "start_time": "2024-06-27T04:27:11.920Z"
   },
   {
    "duration": 76,
    "start_time": "2024-06-27T04:27:12.060Z"
   },
   {
    "duration": 43,
    "start_time": "2024-06-27T04:27:12.140Z"
   },
   {
    "duration": 41,
    "start_time": "2024-06-27T04:27:12.186Z"
   },
   {
    "duration": 11,
    "start_time": "2024-06-27T04:27:12.230Z"
   },
   {
    "duration": 20,
    "start_time": "2024-06-27T04:27:12.244Z"
   },
   {
    "duration": 53,
    "start_time": "2024-06-27T04:27:12.267Z"
   },
   {
    "duration": 26,
    "start_time": "2024-06-27T04:27:22.966Z"
   },
   {
    "duration": 1706,
    "start_time": "2024-06-27T04:28:02.499Z"
   },
   {
    "duration": 475,
    "start_time": "2024-06-27T04:28:10.224Z"
   },
   {
    "duration": 789,
    "start_time": "2024-06-27T04:28:10.703Z"
   },
   {
    "duration": 75,
    "start_time": "2024-06-27T04:28:11.506Z"
   },
   {
    "duration": 231,
    "start_time": "2024-06-27T04:28:11.585Z"
   },
   {
    "duration": 200,
    "start_time": "2024-06-27T04:28:11.822Z"
   },
   {
    "duration": 474,
    "start_time": "2024-06-27T04:28:12.025Z"
   },
   {
    "duration": 543,
    "start_time": "2024-06-27T04:28:12.504Z"
   },
   {
    "duration": 169,
    "start_time": "2024-06-27T04:28:13.051Z"
   },
   {
    "duration": 51,
    "start_time": "2024-06-27T04:28:13.223Z"
   },
   {
    "duration": 154,
    "start_time": "2024-06-27T04:28:13.276Z"
   },
   {
    "duration": 34,
    "start_time": "2024-06-27T04:28:13.433Z"
   },
   {
    "duration": 42,
    "start_time": "2024-06-27T04:28:13.470Z"
   },
   {
    "duration": 63852,
    "start_time": "2024-06-27T04:28:13.516Z"
   },
   {
    "duration": 41,
    "start_time": "2024-06-27T04:29:17.374Z"
   },
   {
    "duration": 40,
    "start_time": "2024-06-27T04:29:17.419Z"
   },
   {
    "duration": 160,
    "start_time": "2024-06-27T04:29:17.463Z"
   },
   {
    "duration": 59,
    "start_time": "2024-06-27T04:29:17.626Z"
   },
   {
    "duration": 56,
    "start_time": "2024-06-27T04:29:17.688Z"
   },
   {
    "duration": 21,
    "start_time": "2024-06-27T04:29:17.747Z"
   },
   {
    "duration": 43,
    "start_time": "2024-06-27T04:29:17.771Z"
   },
   {
    "duration": 20,
    "start_time": "2024-06-27T04:29:17.817Z"
   },
   {
    "duration": 21,
    "start_time": "2024-06-27T04:29:17.842Z"
   },
   {
    "duration": 52,
    "start_time": "2024-06-27T04:29:17.866Z"
   },
   {
    "duration": 355,
    "start_time": "2024-06-27T04:35:40.196Z"
   },
   {
    "duration": 1424,
    "start_time": "2024-06-27T04:36:03.339Z"
   },
   {
    "duration": 19,
    "start_time": "2024-06-27T04:36:12.048Z"
   },
   {
    "duration": 19,
    "start_time": "2024-06-27T04:36:24.685Z"
   },
   {
    "duration": 157,
    "start_time": "2024-06-27T04:38:06.449Z"
   },
   {
    "duration": 4820,
    "start_time": "2024-06-27T04:39:30.480Z"
   },
   {
    "duration": 12,
    "start_time": "2024-07-02T03:51:49.343Z"
   },
   {
    "duration": 5007,
    "start_time": "2024-07-02T03:51:55.402Z"
   },
   {
    "duration": 796,
    "start_time": "2024-07-02T03:52:00.412Z"
   },
   {
    "duration": 36,
    "start_time": "2024-07-02T03:52:01.211Z"
   },
   {
    "duration": 171,
    "start_time": "2024-07-02T03:52:01.250Z"
   },
   {
    "duration": 144,
    "start_time": "2024-07-02T03:52:01.425Z"
   },
   {
    "duration": 441,
    "start_time": "2024-07-02T03:52:01.572Z"
   },
   {
    "duration": 480,
    "start_time": "2024-07-02T03:52:02.017Z"
   },
   {
    "duration": 148,
    "start_time": "2024-07-02T03:52:02.500Z"
   },
   {
    "duration": 63,
    "start_time": "2024-07-02T03:52:02.651Z"
   },
   {
    "duration": 150,
    "start_time": "2024-07-02T03:52:02.718Z"
   },
   {
    "duration": 44,
    "start_time": "2024-07-02T03:52:02.871Z"
   },
   {
    "duration": 23,
    "start_time": "2024-07-02T03:52:02.918Z"
   },
   {
    "duration": 62744,
    "start_time": "2024-07-02T03:52:02.947Z"
   },
   {
    "duration": 36,
    "start_time": "2024-07-02T03:53:05.698Z"
   },
   {
    "duration": 39,
    "start_time": "2024-07-02T03:53:05.737Z"
   },
   {
    "duration": 155,
    "start_time": "2024-07-02T03:53:05.780Z"
   },
   {
    "duration": 71,
    "start_time": "2024-07-02T03:53:05.938Z"
   },
   {
    "duration": 41,
    "start_time": "2024-07-02T03:53:06.012Z"
   },
   {
    "duration": 22,
    "start_time": "2024-07-02T03:53:06.057Z"
   },
   {
    "duration": 35,
    "start_time": "2024-07-02T03:53:06.081Z"
   },
   {
    "duration": 20,
    "start_time": "2024-07-02T03:53:06.118Z"
   },
   {
    "duration": 21,
    "start_time": "2024-07-02T03:53:06.141Z"
   },
   {
    "duration": 58,
    "start_time": "2024-07-02T03:53:06.164Z"
   },
   {
    "duration": 17,
    "start_time": "2024-07-02T03:53:06.225Z"
   },
   {
    "duration": 176,
    "start_time": "2024-07-02T03:53:06.245Z"
   },
   {
    "duration": 6,
    "start_time": "2024-07-02T03:53:06.424Z"
   },
   {
    "duration": 240,
    "start_time": "2024-07-02T04:00:43.961Z"
   },
   {
    "duration": 5,
    "start_time": "2024-07-02T04:01:05.366Z"
   },
   {
    "duration": 249,
    "start_time": "2024-07-02T04:02:01.292Z"
   },
   {
    "duration": 175,
    "start_time": "2024-07-02T04:03:44.750Z"
   },
   {
    "duration": 5209,
    "start_time": "2024-07-03T03:15:33.602Z"
   },
   {
    "duration": 1339,
    "start_time": "2024-07-03T03:47:41.177Z"
   },
   {
    "duration": 794,
    "start_time": "2024-07-03T03:47:42.519Z"
   },
   {
    "duration": 42,
    "start_time": "2024-07-03T03:47:43.316Z"
   },
   {
    "duration": 155,
    "start_time": "2024-07-03T03:47:43.361Z"
   },
   {
    "duration": 165,
    "start_time": "2024-07-03T03:47:43.529Z"
   },
   {
    "duration": 422,
    "start_time": "2024-07-03T03:47:43.697Z"
   },
   {
    "duration": 452,
    "start_time": "2024-07-03T03:47:44.132Z"
   },
   {
    "duration": 157,
    "start_time": "2024-07-03T03:47:44.587Z"
   },
   {
    "duration": 58,
    "start_time": "2024-07-03T03:47:44.748Z"
   },
   {
    "duration": 149,
    "start_time": "2024-07-03T03:47:44.809Z"
   },
   {
    "duration": 33,
    "start_time": "2024-07-03T03:47:44.961Z"
   },
   {
    "duration": 39,
    "start_time": "2024-07-03T03:47:44.997Z"
   },
   {
    "duration": 62635,
    "start_time": "2024-07-03T03:47:45.039Z"
   },
   {
    "duration": 33,
    "start_time": "2024-07-03T03:48:47.679Z"
   },
   {
    "duration": 52,
    "start_time": "2024-07-03T03:48:47.715Z"
   },
   {
    "duration": 153,
    "start_time": "2024-07-03T03:48:47.770Z"
   },
   {
    "duration": 59,
    "start_time": "2024-07-03T03:48:47.930Z"
   },
   {
    "duration": 57,
    "start_time": "2024-07-03T03:48:47.992Z"
   },
   {
    "duration": 20,
    "start_time": "2024-07-03T03:48:48.052Z"
   },
   {
    "duration": 12,
    "start_time": "2024-07-03T03:48:48.074Z"
   },
   {
    "duration": 52,
    "start_time": "2024-07-03T03:48:48.089Z"
   },
   {
    "duration": 24,
    "start_time": "2024-07-03T03:48:48.143Z"
   },
   {
    "duration": 21,
    "start_time": "2024-07-03T03:48:48.170Z"
   },
   {
    "duration": 52,
    "start_time": "2024-07-03T03:48:48.195Z"
   },
   {
    "duration": 266,
    "start_time": "2024-07-03T03:48:48.251Z"
   },
   {
    "duration": 220,
    "start_time": "2024-07-03T03:48:48.519Z"
   },
   {
    "duration": 176,
    "start_time": "2024-07-03T03:50:15.260Z"
   },
   {
    "duration": 207,
    "start_time": "2024-07-03T03:51:19.727Z"
   },
   {
    "duration": 5,
    "start_time": "2024-07-03T03:57:53.974Z"
   },
   {
    "duration": 167,
    "start_time": "2024-07-03T03:58:26.310Z"
   },
   {
    "duration": 164908,
    "start_time": "2024-07-03T04:00:58.598Z"
   },
   {
    "duration": 190,
    "start_time": "2024-07-03T04:06:06.143Z"
   },
   {
    "duration": 1280,
    "start_time": "2024-07-03T04:09:03.653Z"
   },
   {
    "duration": 4,
    "start_time": "2024-07-03T04:13:52.387Z"
   },
   {
    "duration": 1247,
    "start_time": "2024-07-03T04:14:16.761Z"
   },
   {
    "duration": 3066,
    "start_time": "2024-07-03T04:15:39.866Z"
   },
   {
    "duration": 2795,
    "start_time": "2024-07-03T04:16:50.454Z"
   },
   {
    "duration": 2940,
    "start_time": "2024-07-03T04:17:21.717Z"
   },
   {
    "duration": 7,
    "start_time": "2024-07-03T04:24:05.051Z"
   },
   {
    "duration": 7,
    "start_time": "2024-07-03T04:24:41.419Z"
   },
   {
    "duration": 22,
    "start_time": "2024-07-03T04:27:25.592Z"
   },
   {
    "duration": 62996,
    "start_time": "2024-07-03T04:27:36.762Z"
   },
   {
    "duration": 67322,
    "start_time": "2024-07-03T04:28:47.745Z"
   },
   {
    "duration": 38483,
    "start_time": "2024-07-03T04:30:32.581Z"
   },
   {
    "duration": 1269,
    "start_time": "2024-07-03T04:31:57.066Z"
   },
   {
    "duration": 198,
    "start_time": "2024-07-03T04:32:24.137Z"
   }
  ],
  "kernelspec": {
   "display_name": "Python 3 (ipykernel)",
   "language": "python",
   "name": "python3"
  },
  "language_info": {
   "codemirror_mode": {
    "name": "ipython",
    "version": 3
   },
   "file_extension": ".py",
   "mimetype": "text/x-python",
   "name": "python",
   "nbconvert_exporter": "python",
   "pygments_lexer": "ipython3",
   "version": "3.9.19"
  },
  "toc": {
   "base_numbering": 1,
   "nav_menu": {},
   "number_sections": true,
   "sideBar": true,
   "skip_h1_title": true,
   "title_cell": "Table of Contents",
   "title_sidebar": "Contents",
   "toc_cell": false,
   "toc_position": {},
   "toc_section_display": true,
   "toc_window_display": false
  }
 },
 "nbformat": 4,
 "nbformat_minor": 2
}
